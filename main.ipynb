{
 "cells": [
  {
   "cell_type": "code",
   "execution_count": 1,
   "metadata": {
    "pycharm": {
     "name": "#%%\n"
    }
   },
   "outputs": [
    {
     "name": "stdout",
     "output_type": "stream",
     "text": [
      "Requirement already satisfied: requests in /home/hhwang/miniconda3/envs/38/lib/python3.8/site-packages (2.25.1)\r\n",
      "Requirement already satisfied: idna<3,>=2.5 in /home/hhwang/miniconda3/envs/38/lib/python3.8/site-packages (from requests) (2.10)\r\n",
      "Requirement already satisfied: urllib3<1.27,>=1.21.1 in /home/hhwang/miniconda3/envs/38/lib/python3.8/site-packages (from requests) (1.26.3)\r\n",
      "Requirement already satisfied: certifi>=2017.4.17 in /home/hhwang/miniconda3/envs/38/lib/python3.8/site-packages (from requests) (2020.12.5)\r\n",
      "Requirement already satisfied: chardet<5,>=3.0.2 in /home/hhwang/miniconda3/envs/38/lib/python3.8/site-packages (from requests) (4.0.0)\r\n"
     ]
    }
   ],
   "source": [
    "%pwd\n",
    "!pip install requests"
   ]
  },
  {
   "cell_type": "markdown",
   "metadata": {
    "pycharm": {
     "name": "#%% md\n"
    }
   },
   "source": [
    "### Filtering I (BM25 Retrieval)"
   ]
  },
  {
   "cell_type": "code",
   "execution_count": 2,
   "metadata": {},
   "outputs": [
    {
     "name": "stdout",
     "output_type": "stream",
     "text": [
      "516\n",
      "As+seen+on+The+Five+Police+Group+Boycotts+Ben+&amp;+Jerry's+After+Black+Lives+Matter+Endorsement+As+more+women+come+forward+with+allegations+of+sexual+misconduct+against+Donald+Trump,+the+Republican+nominee+is+lashing+out+at+the+mainstream+media,+which+he+claims+is+running+with+this+\"total+fiction\"+to+distract+from+Hillary+Clinton's+scandals.+At+a+rally+in+Greensboro,+N.C.,+Trump+said+these+accusations+are+part+of+a+conspiracy+involving+the+Clinton+campaign+and+what+he+called+“the+corrupt+media.”+Greg+Gutfeld+agreed+with+much+of+Trump's+assessment+on+\"The+Five\"+today,+saying,+\"The+media+wants+Hillary+to+win.+There's+no+doubt+about+that.\"+Judge+Jeanine+on+Trump+Accusers:+'All+on+One+Day?+It's+a+Little+Too+Convenient'+Gutfeld+explained+that+Trump+has+actually+been+\"set+up,\"+as+he+was+given+countless+hours+of+coverage+and+\"billions+of+dollars+of+free+media,\"+only+to+have+the+rug+pulled+out+from+under+him.+\"The+media+...+[and]+Hillary+and+Obama,+they+knew+elevating+Donald+Trump+-+giving+him+an+air+of+respectability+in+the+press,+as+well+-+turned+him+into+the+Republican+nominee.+Then,+out+came+the+knives.\"+Watch+the+co-hosts+of+\"The+Five\"+discuss+above,+and+let+us+know+what+you+think+in+the+comments.+New+WikiLeaks+Bombshell:+Clinton+Aides+Discussed+'Emails+to+and+from+POTUS'\n",
      "Number of retrieved documents: 10\n",
      "STOKING FIRE : Anti - Choice Boycotts Continue , but Will Businesses Continue to Give In ? A little more than a year ago , the evangelical Christian group , Repent America , kicked off a campaign against Stericycle , a national medical waste disposal company . The goal ? To cripple abortion clinics by making it impossible for them to dispose of fetal remains , sharps , and other surgical throwaways . The organization calls Stericycle \" a modern - day Auschwitz \" and equates the company with German businesses that supported Hitler 's genocidal policies . \" Government entities , police forces , military troops , and even civilians from a number of countries aided the Nazis in the destruction of the Jewish people , \" their website begins . \" Some supplied construction materials and funds to the Nazi military . Some provided lists of names of Jewish people in their countries . Some helped to gather and deport Jews onto freight trains . \" Moving into the present , the site rails that \" today in America a diabolical silence and the mass annihilation of unwanted persons remains in our midst ... It is because of companies like Stericycle that abortionists are able to operate . \" This rhetorical flourish - and the concomitant ratcheting up references to the \" abortion holocaust\"-have played well for anti - choicers since no company wants to be publically likened to Nazi collaborators . Michael Marcavage , head of Repent America , obviously understood this when he launched the boycott . Not only that , since Stericycle rented trucks from Penske and Ryder , the campaign also zeroed in on them . Both quickly folded and in 2011 stopped allowing their trucks to service abortion facilities . The campaign is currently focused on AimNationaLease for the same reason . According to Repent America , Aim \" allows Stericycle to use its trucks to collect the remains of aborted babies and the items used in killing them . \" Boycotts , of course , are a tried - and - true progressive tactic and have successfully protested everything from unfair labor practices to homophobia . But what 's good for the goose has proved good for the gander and the Right - always eager to appropriate winning strategies -has gravitated to the boycott full throttle . This is n't wholly new . Indeed , on a local level anti - abortion activists have threatened landlords , rental agents , construction crews , and delivery services since shortly after the Roe decision . At the same time , it was n't until 2003-when Chris Danze , an Austin , Texas , concrete foundation contractor , organized Texas Contractors and Suppliers for Life - that the full muscle of anti - choice boycotting was exerted . At that time Planned Parenthood was in the throes of building a new $ 6.2 million clinic in Austin and had hired the Browning Construction Company as general contractor . Danze told The National Catholic Register that he and his group opposed the \" sexual mayhem and killing of unborn children \" that they believe Planned Parenthood represents . A well - publicized boycott of contractors affiliated with the health center paid off ; shortly after the groundbreaking , Browning pulled out of the project . \" The boycott did not stop Planned Parenthood in Austin from being erected but it delayed it , \" says Vicki Saporta , President and CEO of the National Abortion Federation . \" It made it more difficult and expensive for the clinic to be built . \" What 's more , anti - abortion boycotts have expanded into other arenas , targeting any - and - all businesses that interact with providers . \" The owner said that due to negative publicity Welsco could n't continue to work with us , \" she reports . \" He would not elaborate but said that I should go to the Internet and Google it . I did and found a photo of a Welsco truck at the clinic with commentary calling Welsco a business supporting abortion . Thom Huey , one of our regular protesters , had waged a one - man campaign to stop them from delivering to us . Apparently , he got a very quick reaction . \" Williams says that she was flabbergasted by Welsco 's capitulation and strenuously objected to the company 's demand that she immediately return the gas tanks . \" I said , ' No , you 're not going to do this . I paid for the gas and I 'll return the canisters when they 're empty or I have another supplier , ' \" she continues . An altercation with police , a lawsuit , and numerous attempts to secure a new supplier followed . \" There were five companies that flat - out said they would not be involved with abortion , but we eventually found a company and now have a one year contract with them , \" she adds . Amy Hagstrom Miller , Founder , President , and CEO of the Whole Woman 's Health Center chain , has also felt the sting of anti - abortion pressure . After she discovered that Stericycle had improperly disposed of fetal remains , she fired the firm and began searching for a replacement . Waste Management Inc. , a huge national company , was hired . \" They signed a contract with me to pick up at my five Texas clinics , but only took one shipment from Austin before they said they could n't continue . \" Although Hagstrom Miller has been working with a local vendor ever since , she describes what happened to Whole Woman as extremely troubling . What 's more , she acknowledges that when businesses submit to antiabortion browbeating , it forces clinicians to scramble to find new suppliers , diverts attention from the provision of care , and exacerbates tensions and anxieties . I 've never met Michael Muscavage or Chris Danze but I imagine these realities please both of them . In the end they know - as we do - that boycotts and the threat of bad publicity often work . \" Boycotts and harassment tactics have an impact , even if it 's not the impact the antis would like , \" NAF 's Vicki Saporta concludes . \" These actions do n't close clinics or stop new ones from being built , but they can still be very disruptive . This undoubtedly explains why they 're increasingly being used . \" Indeed , Life Decisions International has compiled The Boycott List , a roster of companies that they say aid - and - abet Planned Parenthood . A huge protest movement has erupted in the mining area of Gafsa in Tunisia , and it is spreading . An enormous gulf has opened up between an exasperated people and the authorities . The response of the Ben Ali regime has been brutal repression with some workers being killed . Since the beginning of the year , the mining area of Gafsa , Tunisia , has been in a state of social turmoil . In this phosphate mining area , the Compagnie des Phosphates de Gafsa reigns supreme . It is supported by the despotic and corrupt regime of Ben Ali . In addition to the pollution linked to the activities of extraction and treatment , poverty and mass unemployment have triggered a huge protest movement . Workers and youth in the mining area are mobilising to defend their dignity , and are struggling for jobs , better housing conditions , health and education . They denounce this system of economic and social plunder and looting . The strikes have increased . The teachers , some branches of the civil service and even small shopkeepers have been mobilized . The movement has taken on various forms . For example , in several cities in the area , unemployed youths and widows of workers who have been victims of accidents at the Compagnie des Phosphates are organising \" sit - ins \" with tents in front of official buildings . The Ben Ali regime has violently suppressed the movement , for fear that Redeyef could become a symbol of the anger of the youth and workers throughout the country , and that the movement could spread . Hundreds of arrests have taken place since the beginning of the year . The police harass and brutalize on a daily basis the people in struggle . The city is virtually under siege . That is how things stand in this country where , according to Sarkozy , \" the space for freedoms is progressing ! \" The Gafsa region is known for its militant and revolutionary traditions . This year marks the thirtieth anniversary of the strike which took place under Bourguiba , that began in the mining area of Redeyef and spread to workers and youth throughout the region of Gafsa , and eventually lead to a general nationwide strike . At that time , the brutal repression of the movement claimed hundreds of lives . Thousands of workers and trade unionists were sentenced to lengthy prison terms . The so - called \" economic miracle \" . The Ben Ali regime boasts of an \" economic miracle \" in Tunisia . But who benefits from this growth that is based primarily on mass tourism ? The capitalists who dominate the tourism industry and rake in all the profits ! Huge fortunes are being accumulated through real estate speculation , while the mass of the population languishes in unemployment and poverty . While French , Spanish and German companies relocate to Tunisia to take advantage of an underpaid and over - exploited workforce , other companies throw their workers onto the streets and leave Tunisia to find even less expensive workers elsewhere . Another result of the Ben Ali \" miracle \" is that hundreds of young people are trying to flee the country by sea , on ramshackle boats . Many end up drowning . On May 7 , Redeyef , a town of 30,000 inhabitants , was surrounded by the police . According to witnesses , several hundred people ‑ men , women and children - taking with them only the bare necessities , tried to leave the city with the idea of abandoning it to the security forces . They were dissuaded from doing this by the leaders of the strike committee , and finally they decided to remain and continue the fight . Indeed , a \" mass evacuation \" of this kind would not have been an effective means of struggle . In any case , this episode illustrates the enormous gulf that has opened up between the people and the authorities . It also reflects the exasperation of a population that faces the behaviour of the \" official \" trade union leaders , who are notoriously corrupt and completely in the pay of the regime . Hand in hand with the latter , these union \" leaders \" have tried to isolate and demoralize the strikers and the population in revolt . Two days later , on May 9 , Taher Saidi , aged 44 , was seriously wounded during an intervention of the security forces in the town of Om Larais ( 35,000 inhabitants ) . He died on May 19 at the regional hospital of Gafsa . They were protesting against the results of the less than crystal clear entrance exams to the Compagnie des Phosphates de Gafsa , that were marred by cronyism . The company had in fact agreed to take on unemployed youths from the region in January . A group decided to occupy the electric generator - with the power switched off - that supplies energy to the plant . A police brigade armed with tear gas began to evacuate the generator . The electricity supply was switched on again and several young demonstrators were electrocuted in the process . Rescue operations did not begin until several hours after the accident . The young man who died was 26 years . His name was Hichem Ben Jeddou El Aleimi . Another , Ahmed Ben Salah Fajraoui , aged 21 , was seriously injured . Furthermore , the Ben Ali regime has arrested several militants , among whom are the students Znaïdia and Jihed Nejib Ben Ali , but also the unemployed Houcine Ben Soltane , Abid Tababi , Ismail Hlaimi and Atef Ben Salehn . They were awaiting trial in court for May 29 . The imprisoned students and unemployed youth , as all the inhabitants of the mining area of Gafsa , need our solidarity . However , mere declarations of solidarity are not enough . Faced with a media wall of silence surrounding the events in the mining area of Gafsa , La Riposte calls upon all trade unions and left parties to do what they can to bring this struggle to the attention of workers in France and internationally . Trade unions in the press and the TV industry have an important role to play in this . Airport and tourist industry workers ' unions should also be mobilized to denounce the repression . We must initiate strike actions and trade union boycotts that directly affect capitalist interests in Tunisia . Solidarity also requires the raising and sending of funds to support the struggle . La Riposte wrote this article in close collaboration with direct participants in the struggle in the Gafsa region . This means we did not have to rely on accounts of the events in the European press . We thank them warmly for their valuable assistance . Nazi Justiz in America ? By Richard W. Stevens , Esq . . In his recent book , Nazi Justiz : Law of the Holocaust , Richard Lawrence Miller explained the five major processes that took place between the 1933 election of Adolf Hitler and the calculated mass murder of Jews ( and others ) starting in 1941 . The five steps were : identification , ostracism , confiscation , concentration and annihilation . Miller warned that when the citizens see any one of these steps starting to happen , immediately the citizens must protest and stop it . The first three steps are in full swing in America ... but too few of us are protesting . Identification : First , the government identifies the target group by certain characteristics and then tracks the target group . Next , the target group is called a \" public health menace \" or \" dangerous extremists . \" The Nazis defined what a \" Jew \" was , categorized everyone as either \" Jew \" or \" Aryan , \" and then required everyone to carry identification papers indicating their category . At the same time , the Nazis propagandized all Germans to believe that Jews were dangerous subversives and carriers of disease . In America , the plan is to identify firearms owners as the target group : register the guns and license the owners . Every firearms owner will be identified , marked , tracked , and required to carry identification papers . Meanwhile , the government and media consistently describe guns as dangers to the \" public health . \" Firearms owners are dubbed \" wackos , \" \" extremists , \" or just plain jackass stupid . Ostracism : In this step the government stimulates public outcry against the target group . Then private organizations work jointly with the government to exclude members of the target group from society ... to \" protect society from the menace . \" The Nazis ostracized the Jews by fanning media hysteria against Jews , teaching hatred and fear of Jews in the schools , encouraging boycotts against Jewish people and businesses , and enacting laws that stripped Jews of legal protections . In America , the government and media constantly focus on firearms as evil and dangerous to society . The owners of firearms are portrayed as crazy , careless , criminal , or country crackers . Zoning and other laws force shooters to travel farther and farther out of town to practice . Other laws make possessing , transporting or carrying a firearm punishable by fines and imprisonment , even if the owner has never intended nor done anything to hurt anyone with a gun . Parents are told to keep their kids away from homes where the adults own firearms . Confiscation : In this step the government registers personal property and its owners , monitors banking and other financial transactions , and takes the property of the target group without proof of a real crime . The Nazi laws required Jews to report all of their personal property to the government and required banks to track and report all transactions above a certain amount . The government could and did confiscate property based on manufactured \" crimes , \" minor offenses , and mere accusations . Confiscation of firearms is underway . In New York , first the government required registration of nearly all guns , and later the police visited private homes to take the guns from the registered owners . At this moment California authorities are demanding lawfully - owned firearms to be turned in ... after they had earlier required that the guns be \" only \" registered . Meanwhile , banks must report \" suspicious \" transactions over $ 5,000 and all transactions over $ 10,000 . Civil forfeiture laws allow police to seize property without compensating the owner , just because the police suspect that the property was bought with illegally obtained money . It 's not too late to reverse America 's movement toward abolishing private firearms ownership . Get a copy of JPFO 's detailed report on America 's slide toward Nazi Justiz ( only $ 5.00 postpaid ) . Help us get this vital information into the hands of every thinking American . Put the politicians and media pundits on the spot . Contact JPFO at ( 800 ) 869 - 1884 / ( 425 ) 451 - 3959 fax . Do n't delay -- act today ! A collection of personal and Milwaukee Common Council correspondence from September 1967 . This collection includes support for Vel Phillip and Father Groppi 's Fair Housing work . African Americans -- Civil rights ; Discrimination in housing -- Wisconsin -- Milwaukee ; Demonstrations -- Wisconsin -- Milwaukee ; Race discrimination -- Wisconsin -- Milwaukee ; Race relations -- Wisconsin -- Milwaukee ; Housing -- Law and ... . A group of letters and clippings sent to mail that oppose her Fair Housing Ordinance . The majority of these items fall under the categories of Hate Mail , Anonymous Letters and racism , what Vel Phillips referred to as \" Crank Mail \" . African Americans -- Civil rights ; Discrimination in housing -- Wisconsin -- Milwaukee ; Demonstrations -- Wisconsin -- Milwaukee ; Race discrimination -- Wisconsin -- Milwaukee ; Race relations -- Wisconsin -- Milwaukee ; Housing -- Law and ... . Arms was born in Milwaukee and attended North Division High School before joining the Commandos . He discusses fellow marchers , the Freedom House , the 1968 Poor People 's Campaign in Washington D.C. , and job discrimination in the local union . Lastly , ... . Oral history -- Wisconsin --Milwaukee ; Oral histories ( document genres ) ; Milwaukee ( Wis.)--Race relations . Arms , a member of Milwaukee 's NAACP Youth Council , discusses her arrest and treatment by the Milwaukee police , protests , the Freedom House fire , the Black Christmas economic boycott , and her involvement with the Commandos including her naming of ... . Oral history -- Wisconsin --Milwaukee ; Oral histories ( document genres ) ; Miilwaukee ( Wis.)--Race relations . Butler , a native of Milwaukee , attended St. Boniface School and Pius High School . She discusses discrimination as a child and student in Milwaukee , the Milwaukee NAACP Youth Council , the Commandos and Commando - ettes , and joining Father Groppi in ... . Milwaukee ( Wis.)--Race relations ; African Americans -- Civil rights -- Wisconsin -- Milwaukee ; Civil rights demonstrations -- Wisconsin -- Milwaukee ; Discrimination in housing -- Wisconsin -- Milwaukee ; . Cecil Brown Jr. founded Milwaukee 's chapter of Congress of Racial Equality ( CORE ) in 1963 and also served as chairman of the chapter . He also served as Vice - Chairman of Milwaukee United School Integration Committee ( MUSIC ) . Cecil and Loretta Brown ... . Oral histories ( document genres ) ; Oral history -- Wisconsin -- Milwaukee ; Civil rights demonstrations -- Wisconsin -- Milwaukee . Clips of Father Groppi , Prentice McKinney , and the Youth Council speaking to reporters at the burned out Freedom House . During the interview , Father Groppi claims that the police started the fire and affirms the rights of the activists to ... . Clips of news material prepared for the WTMJ special report program examining school boycotts and the issue of de facto segregation in Milwaukee . The first clip gives an introduction to de facto segregation and the functions of MPS , and shows some ... . Correspondence and memos of Milwaukee United School Integration Committee ( MUSIC ) , an organization that worked to end school segregation and racial discrimination in Milwaukee through freedom schools , school boycotts , marches , demonstrations , and ... . African Americans -- Civil rights -- Wisconsin -- Milwaukee ; Segregation in education -- Wisconsin -- Milwaukee ; . Father Groppi 's annotation , \" The Milwaukee police burning the Freedom House in the summer of 1967 . The neighborhood was tear gassed and young people had to flee from the house . \" This image appeared on the front page of the Milwaukee Sentinel ... . Footage of a Milwaukee Fire Department official whose findings suggest that the Freedom House fire was started by a flammable liquid . It was not likely that it was started by a tear gas cartridge , as was suggested by Fr . Groppi and the Commandos . Demonstrations -- Wisconsin -- Milwaukee ; Milwaukee ( Wis. ) Race relations ; . News film clips of Father James Groppi the day after the first open housing march across the 16th Street bridge on August 28 1967 . The first clip has Groppi describing the event as a \" white riot \" and asking Mayor Meier to provide better protection ... . News film clips of Father Groppi , with the Youth Council in attendance , speaking at the Unitarian Church West , September 20 , 1967 . In the clips Groppi shares his perspective on the struggle for open housing legislation in Milwaukee , his life ... . Footage of Prentice McKinney speaking to reporters about the cause of the Freedom House fire . He claims to have seen a police officer throw something in the house that caused flames to shoot out of the house . Demonstrations -- Wisconsin -- Milwaukee ; Milwaukee ( Wis. ) Race relations ; . News film clips of scenes from the second fair housing march , August 29 , 1967 . Features footage of demonstrators crossing the 16th Street Viaduct , counter - demonstrators protesting along the marchers ' route , and police accompanying the marchers , ... . Grant Gordon became the first black principal in Milwaukee in 1960 at Garfield High School ; Lucinda Gordon was active with the National Association for the Advancement of Colored People ( NAACP ) in Milwaukee . They share their impressions of the ... . Oral histories ( document genres ) ; Oral history -- Wisconsin -- Milwaukee ; Civil rights demonstrations -- Wisconsin -- Milwaukee . Gwen Jackson , a community activist with a Milwaukee elementary school named in her honor , served in the 1960 's as Chair of the Milwaukee Urban League Family Life Committee . Her interview topics include the National Association for the Advancement ... . Oral histories ( document genres ) ; Oral history -- Wisconsin -- Milwaukee ; Civil rights demonstrations -- Wisconsin -- Milwaukee Zine El Abidine Ben Ali : Wikis . Note : Many of our articles have direct quotes from sources you can cite , within the Wikipedia article ! This article does n't yet , but we 're working on it ! See more info or our list of citable articles . The state cultivates his personality cult . On a daily basis newspapers run eulogistic articles praising the President whose picture appears in the first page on a daily basis , often alongside similar articles and pictures of his wife , Leila [ 1 ] . Large pictures of President Ben Ali and ' spontaneously ' erected banners praising him are found on all public buildings and majors streets . The new international airport is named after the sitting president too . [ 2 ] . The rubber stamp parliament repeatedly passes laws that make it appear democratic to outsiders . Since 1987 , Tunisia has formally reformed its political system several times . It has theoretically abolished life presidency and opened up the parliament to opposition parties . The President 's party , known as the Constitutional Democratic Rally ( RCD ) in French , is composed of about 2 million members and more than 6000 representations throughout the country and is largely overlapping with all important state institutions . Contents . On October 25 , 2009 , national elections were held in Tunisia . The election consisted of a presidential one and a parliamentary one . The sitting president Zinedine Ben Ali won yet another landslide victory , with 89.62 % . His main opponent , Mohamed Bouchiha , received 5.01 % . The president 's party , the CDR , also got the majority of votes for the parliamentary election , 84.59 % . The Movement of Socialist Democrats party received 4.63 % [ citation needed ] . The election received criticism from both internal and foreign media [ 8 ] . Human Rights Watch has reported that parties and candidates were denied exposure remotely similar to that of the sitting president [ 9 ] and that the Ettajdid party weekly publication , Ettarik al - Jadid , was seized by authorities [ 10 ] . Government appointment . Ben Ali was born in Hammam Sousse . He was appointed to establish and manage the Defense Ministry 's Military Security in 1964 , which he ran until 1974 . He was promoted to director - general of National Security at the Ministry of the Interior in 1977 after serving as military attaché to the Kingdom of Morocco . He returned from four years as Ambassador to Poland to become once again head of National Security at the Ministry of the Interior but this time with Cabinet rank . For his success in dealing with the political opponents and their threat to the regime , he was promoted to Minister of the Interior , and retained this position until he was appointed Prime Minister , though many Tunisians believe that he never completed high school . Ben Ali was appointed Prime Minister by President Habib Bourguiba on 1 October 1987 ; in this position , he was the President 's constitutional successor . Five weeks after becoming head of the government , he had President Bourguiba declared medically unfit for the duties of the office and assumed the presidency on 7 November 1987 , in what was a medico - legal coup . The constitutional destitution of President Bourguiba was popular and legitimately based on Article 57 , that allowed the procedure . [ citation needed ] Since then many Tunisians have become disillusioned by the lack of democracy in the country , the growth of the police and security services , and the uneven distribution of wealth . [ citation needed ] . He then retained his predecessor 's pro - western foreign policy and supported the economy which has been growing since the early 1990s . Growth in 2002 slowed to a 15-year low of 1.9 % due to drought and lackluster tourism . Better conditions after 2003 have helped push growth to about 5 % of GDP . Privatization , increasing foreign investment , improvements in government efficiency and reduction of the trade deficit are challenges for the future . [ 11 ] . Work as President . Ben Ali 's Constitutional Democratic Rally ( formerly Neo - Destour party ) continues to dominate the national politics . In 1999 , although two alternative candidates were permitted for the first time to stand in the presidential election , Ben Ali was reelected with 99.66 % of the vote . He was again re - elected on 24 October 2004 , officially taking 94.48 % of the vote , after a controversial constitutional referendum in 2002 which allowed him to seek reelection . Following calls from his own political party , the Constitutional Democratic Rally , for him to run again in the 2009 presidential election , Ben Ali said at a party congress on 30 July 30 2008 that he would stand for re - election as the party 's candidate . [ 12 ] . Unfortunately , there is little critical reporting ( some in French , see Le Monde ) and almost nothing in English that challenges Ben Ali 's claims of promoting democracy . [ 9 ] On October 25 , 2009 , he was re - elected for a fifth term with an overwhelming 89 percent of the vote . [ 13 ] . Freedom of the press is officially guaranteed and condoned . However , human rights organization Reporters Sans Frontieres states that \" Tunisians have no access to independent news in the local media and the press , radio , TV and the Internet is under the president 's control . Journalists and media are actively discouraged from being more independent by means of bureaucratic harassment , advertising boycotts and police violence . \" [ 14 ] . Ben Ali has particularly targeted internet activists creating forums for discussion and dissent , the most notable cases of these are Zouhair Yahyaoui and the Zarzis Affair . [ 15 ] . Many political prisoners remain in jails or in exile in and out of the country . Many disappearances , deaths and torture cases have been reported by human rights organisations . Many arrests are a result of individuals venturing into the internet to bypass government propaganda and controlled press . [ 16 ] Ben Ali introduced a law that exonerates him from future prosecution and thus gave himself an amnesty . A survey done in 2008 stated that one in three that have had Tunisian molokheya eventually became victims of HIV - Aids . Family . With her , he has two daughters ( Nessrine and Halima ) and a son ( Mohamed Zine El Abidine ) who was born in 2004 ( source : Encyclopedia of the Orient at [ 10 ] ) . In its January / February 2008 issue , the Foreign Policy Magazine reported that Tunisia 's First Lady had been using the 737 Boeing Business Jet [ 17 ] of the government to make \" unofficial visits \" to European Fashion Capitals , such as Milan , Paris and Geneva . The report mentioned that the trips are not on the official travel itinerary . Bloggers tracked the official airplane on spotting webpages as Airliners.net . The first lady has been described as a shopaholic . [ 18 ] [ 19 ] The Trabelsi family controls much of the business sector in the country . Rumors have been circulating that Ben Ali 's son - in - law Sakher al - Materi ( the husband of Zine and Leila 's daughter Nessrine ) is being primed to eventually take over the country . As of October 2009 , he has used family privileges and connections to create a place for himself in the country 's economy , and is making his political debut . [ 11 ] . US citizens who wish to boycott Israeli goods in protest at the Palestinian situation may find themselves in trouble . Such boycotts are actually illegal under US law . US Department of Commerce trade amendments ' counteract the participation of US citizens ... in economic boycotts or embargoes ' . They cover ' all persons and every aspect of commerce ' . The legislation was passed in the 1970s to target the Arab League boycott of Israel , and rules that : ' Refusal to do business with Israel may result in a fine of up to $ 50,000 and five years ' imprisonment . ' Ernesto Cienfuegos , editor of Californian news agency La Voz Aztlan who has promoted the Israeli boycott , is threatened by the Act , which was updated in November 2000 . The maximum imprisonment is ten years . Nevertheless , other US citizens are risking the boycott - ban laws . US company Texas Exports denied auto - parts sales to an Israeli company . CEO John Harris said : ' We urge you to rein in your military and stop oppression of the Palestinian people . Your country has lost the respect of the civilized world . ' Hundreds of negative calls and death threats ensued . On US campuses students are demanding that universities divest themselves of Israel - linked endowments and investments . The University of California , for example , has $ 3.5 billion invested in companies with significant holdings in Israel . Israeli academics too are demanding severance of academic ties with their country . Defying hate mail , professors from Tel Aviv , Ben Gurion and Haifa Universities in Israel have joined their US colleagues ' initiatives . Jewish endorsements have flooded in from Iceland to India , from the Arctic to the Antipodes . The boycott movement is gathering momentum , despite the US ban . New Internationalist reports on issues of world poverty and inequality . We focus attention on the unjust relationship between the powerful and the powerless worldwide in the fight for global justice . More about our work . © Copyright New Internationalist 1973 - 2016 . Except where otherwise noted , content on this site is licensed under Creative Commons . Except where otherwise noted , images on this site are © the attributed photographer / illustrator or representative agency . Top of page Published 8:49 pm , Wednesday , November 2 , 2011 . Ben Fodor gained international attention walking around the streets of Seattle as Phoenix Jones Guardian of Seattle . Photo : AP Photo . Ben Fodor , who refers to himself as superhero Phoenix Jones , speaks to reporters in October outside King County Jail , where his court hearing in an assault investigation was held . No charges were filed , though prosecutors can file an assault charge later against Fodor , who police said pepper sprayed people Sunday morning near the Alaskan Way Viaduct . Ben Fodor , who refers to himself as superhero Phoenix Jones , speaks to reporters in October outside King County Jail , where his court hearing in an assault investigation was held . No charges were filed , though . Seattle 's self - proclaimed superhero Phoenix Jones lost his job working with disabled children after his arrest for investigation of assault . On Oct. 11 , two days after he was arrested by Seattle police , the Department of Social and Health Services alerted his employer about the case , said DSHS spokeswoman Sherry Hill , who handles children 's administration . \" The provider was asked to remove him from any cases that we had , \" Hill said . DSHS asked that he not be around vulnerable children while the case was pending , she said . That caused Jones -- whose real name is Ben Fodor -- to lose his job working with autistic kids ranging from age 4 to 18 , according to Publicola . \" I had to leave work in the middle of the day , \" he told the website . \" It was embarrassing . \" Hill clarified that Fodor is not permanently disqualified from working with kids , but the agency wanted to \" err on the side of caution \" by telling his employer about the assault investigation . Fodor , 23 , was arrested the morning of Oct. 9 after police said he interjected himself into a crowd near the Alaskan Way Viaduct and pepper - sprayed innocent people . Fodor , who speaks to media as Phoenix Jones , has said he was trying to break up a fight and was later assaulted . Fodor was released on bond just after noon the day he was arrested . On Oct. 13 , he said he was not guilty of a crime . He has not been charged in the case . But Fodor could still be charged with assault , and a spokeswoman for City Attorney Pete Holmes , Kimberly Mills , said this week that a final decision has not been made . People who are convicted of assault are prohibited by law from jobs working with vulnerable adults and children . Employers are required to background - check people who work with developmentally disabled children and adults . People who do not pass the background check are put on a state list disqualifying them from such jobs . Fodor could go back to his job if the case is dropped and he is not convicted , Hill said . Often an attention seeker , Fodor went to his Oct. 13 court hearing with a mask , but had to take it off inside the courtroom . He revealed himself outside court as television cameras rolled , but did n't talk then about the alleged assaults . \" I think I have to look toward the future and see what I can do to help the city , \" he told reporters . Police say he should not interject himself in situations , but should call 911 . Fodor promised he 'd be back on \" patrol \" soon . Fodor also goes by \" Flattop \" when he fights in the local mixed martial arts scene . Speaking as the costumed Phoenix Jones Guardian of Seattle , Fodor has told reporters he was breaking up a fight during the Oct. 9 incident . Police say he barged into the situation -- something they say he 's done in several other cases -- and assaulted the women and men with pepper spray . Video of the incident shows two women chasing Fodor and a man with face paint , hitting them and telling the self - proclaimed superheroes to leave . A woman in the group admitted she hit him , but only after he used pepper spray on her friends for no reason , she said . \" He says , ' I 'm a superhero ' and sprays everyone , \" the woman told KING/5 . \" Nothing gives him a right to do that . That 's harassment and assault . \" Seattle firefighters were called to treat those affected by the pepper spray during the incident . Fodor has said he is the actual victim . While dressed as Phoenix Jones at an August Belltown community meeting , Fodor promoted the use of pepper spray for self defense . A spokesman for Phoenix Jones , Peter Tangen , said last month that it appears the officer who arrested Jones had an agenda and that , when Jones said he was assaulted , the officer laughed at him . He also said police have refused to take statements from two people who were following Jones . \" I think the biggest story here is that the SPD did n't really follow protocol in any way , shape or form , \" Fodor told KOMO/4 as Phoenix Jones last month . A police incident report shows police spoke to two people who were with Fodor at the scene . At least one cameraman typically follows Fodor as he walks around Seattle in his black and yellow costume , and both people were said to have been there to document the self - proclaimed superhero 's activities . \" That video began in the area of 1 Av / Columbia St looking to the west , \" the report from Officer Hosea Crumpton states . \" On the video a group of people could be seen on Columbia St looking to the west . The group was gathered , but there did not appear to be a fight . A / Fodor could be seen running into the group and engaging the subjects . A / Fodor could be seen pepper spraying several individuals in the group . People in the group then turned on A / Fodor and chased him away . \" Asked about the police report in which officers describe the video , McNamee said that \" police glanced at my camera for a couple of seconds but did n't examine the footage or ask to see it in any detail . \" However , based on the time - stamp on the footage , the police report describes about a minute of the video , which McNamee posted online . Fodor is also known as the mixed martial arts fighter \" Flatttop . \" His record is 11 - 0 , and his last fight ended in a two - round TKO . A Seattle Twitter account , @FlattopFodor , describes Fodor as the current two - time Ax Lightweight Champion and current welterweight champion in Washington . The last tweet from the account was Aug. 5 , 2010 . As Phoenix Jones , Fodor \" has a history of injecting himself in these incidents , \" Crumpton wrote in the alleged assault report . \" Recently there have been reports of citizens being pepper - sprayed by ( him ) and his group . Although ( the man ) has been advised to observe and report incidents to 911 , he continues to try and resolve things on his own . There was a report earlier in the night in which several nightclub patrons had been reportedly been pepper - sprayed by ( him ) during some type of disturbance . Those people left the area before they could be contacted by police . Officers arriving on that call noted the odor of pepper spray was still in the air . In November 2010 , Seattle police officers were alerted to Phoenix Jones and other self - described superheroes , after officers were confused by their presence at crime scenes . Officers had learned the identity of Jones before the bulletin was distributed . Fodor does not have any other criminal charges in Seattle . He was previously arrested in Washington after being stopped driving with a suspended license , according to court records . Links . Israel has passed a new law outlawing citizens and organizations from advocating for boycotts against any Israeli person or entity . The law is drawing criticism from around the world as an attack on freedom of speech . Under the new law , any person , including journalists , calling for the boycott or divestment of Israel or the occupied West Bank can be sued by the boycott 's targets , without having to prove that they sustained damage . We 're joined by Gal Beckerman , the opinion editor at the Jewish daily newspaper , The Forward , which recently issued an editorial claiming \" a boycott can be a legitimate use of non - violent protest to achieve a worthy goal . \" The editors of the paper then drew a line through the sentence , along with several others , to illustrate the type of reasonable thoughts that will be punishable under the new law . [ includes rush transcript ] . Transcript . This is a rush transcript . Copy may not be in its final form . JUAN GONZALEZ : Israel has passed a new law outlawing citizens and organizations from advocating for boycotts against any Israeli person or entity . The law is drawing criticism from around the world as an attack on freedom of speech . Under the new law , any person , including journalists , calling for the boycott or divestment of Israel or the occupied West Bank can be sued by the boycott 's targets without having to prove that they sustained damage . Israeli legislator Avraham Michaeli supported the law , saying that any call for a boycott is an act of \" tortuous malice . \" AVRAHAM MICHAELI : [ translated ] Boycotts are liable to harm business , cultural and academic activities of those subject to the boycotts , and inflict heavy damage , both financial and repetitional on them . In order to prevent such damage , it is proposed that knowingly publishing a call for any sort of boycott on anyone because of their links to state of Israel will be considered an act of tortuous malice subject to tort regulations . AMY GOODMAN : But dozens of Israeli lawmakers voted against the measure , including Nitzan Horowitz . Horowitz said , \" We are dealing with a legislation that is an embarrassment to Israeli democracy and makes people around the world wonder if there is actually a democracy here . \" Prominent Israeli columnist Ben Caspit , who opposes boycotts , denounced the new legislation , writing , \" This is a blatant and a resounding shutting of people 's mouths . This is a thought police . There is no choice but to use this word . Fascism at its worst is raging , \" he wrote . The Jewish daily newspaper , The Forward , issued an editorial claiming \" a boycott can be a legitimate use of non - violent protest to achieve a worthy goal . \" The editors of the paper then drew a line through the sentence , along with several others , to illustrate the type of reasonable thoughts that will be punishable under the new law . JUAN GONZALEZ : For more , we 're joined by Gal Beckerman , who is the opinion editor at The Forward and the author of When They Come for Us , We 'll Be Gone : The Epic Struggle to Save Soviet Jewry . Welcome to Democracy Now ! GAL BECKERMAN : Thanks for having me . JUAN GONZALEZ : And the discussion at the paper before the editorial that you put out ? GAL BECKERMAN : Mm - hmm . AMY GOODMAN : What does this mean for The Forward ? I mean , it was n't just symbolic , what you were doing- . GAL BECKERMAN : Right . AMY GOODMAN : -putting the lines through the words . What exactly does this anti - boycott law mean for people who are writing , for people who are speaking , for people who believe and do n't believe in boycotting Israel ? So , the vagueness of it is partly what is so problematic . JUAN GONZALEZ : I 'd like to bring Amira Hass back into the conversation . The reaction among the Israeli public to this law ? AMIRA HASS : Look , I 've been away when this law was voted for . I think that the majority of Israelis , or many Israelis , accept it . They feel that there was a threat , that it threatens their livelihood and life and the legitimacy of Israel . And so , I think that the Israeli - most of the Israeli lawmakers feel motivated , because they 're also backed by a large constituency . We are , however , concerned that this law may unduly impinge on the basic democratic rights of Israelis to freedom of speech and freedom of expression . \" Gal ? GAL BECKERMAN : Yeah , he - and he 's not alone . I mean , actually , the ADL , interestingly , were one of the first to come out against the law . One other thing that it 's worth pointing out in this law , and I think why a lot of people reacted the way they did to it , was it does something else besides this kind of freedom of speech issue . And this makes it , in effect , law . So you have people who are - again , you know , could not be described as anything but pro - Israel , but believe that the way to ensure Israel 's security future , democracy , is by ending the occupation . And now their thoughts , in effect , or their - you know , any implementation of what they think they could do to protest this idea , could be - could land them in court . AMY GOODMAN : Well , we 'll leave it there . Gal Beckerman , opinion editor at the Jewish daily Forward , here in New York . Also , thank you to Amira Hass , who has just come off the boat . She was on the boat that was intercepted by the Israeli military that was attempting to challenge the Israeli blockade of Gaza . She was speaking to us from her home in Ramallah . By Amy Goodman & Denis Moynihan Aggrieved Flint residents and their allies are demanding immediate action to ensure safe , clean water to the people of Flint . Many are calling for Michigan Gov. Snyder to resign or even to be arrested . On Saturday , Democracy Now ! host Amy Goodman appeared on MSNBC to talk about the 2015 elections , drug policy and the future of healthcare in Kentucky under newly - elected Republican governor Matt Bevin . Editions . Democracy Now ! Follow . Support Independent News . Democracy Now ! is a 501(c)3 non - profit news organization . We do not accept funding from advertising , underwriting or government agencies . We rely on contributions from our viewers and listeners to do our work . Please do your part today . Select edition . Argentina Australia Brazil Canada China Colombia Egypt France Germany India Indonesia Italy Japan Iran Mexico Morocco Nigeria Pakistan Philippines Russia Saudi Arabia South Africa South Korea Spain Thailand Turkey United Kingdom United States Vietnam . Related News . Bangladesh is set to go to the polls on January 5 , 2014 to elect its 10th Parliament amid a protracted political crisis . The Opposition combine has initiated a new wave of violent agitation to undo what it calls a \" unilateral election . \" However , it is unlikely that the Election Commission will cancel the polls it has announced to meet the nation 's constitutional obligations , ... . By every account , the January 5 election , Bangladesh 's 10th so far , was a low point for democracy . The boycott of the 18-member Opposition alliance meant half the seats Prime Minister Sheikh Hasina 's Awami League ( AL ) won were uncontested , and about half of the remainder were against unknown candidates with estimates of the turnout just 22 - 30 % of the voting population . Ms. ... . Before the fiver - year term of the present Awami League led coalition government is ... . 2 sec . 3 sec . 4 sec . 5 sec . 6 sec . Buy Sun Media photos Activists of Bangladesh Jamaat - E - Islami set fire to an office of ruling party Bangladesh Awami League during a clash in Narayanganj January 5 , 2014 . Bangladesh 's ruling Awami League was poised on Sunday to win a violence - plagued parliamentary election whose outcome was never in doubt after a boycott by the main opposition ... . Story highlights Bangladesh 's political crisis is not going away anytime soon . On January 5th , the country went to the polls in an election that was largely one - sided . Since 1996 , Bangladesh has held elections under a neutral caretaker government . However , the ruling Awami League ( AL ) has now scrapped a constitutional provision for neutral electoral oversight , and the ... . Bangladesh Opposition Boycotts Mayoral Elections , Calls Them Rigged . Bangladesh\\ 's main opposition party on Tuesday boycotted three mayoral elections over accusations of massive rigging , fanning fears of further unrest in the South Asian nation . Political uncertainty has prevailed since January 2014 , when Prime Minister Sheikh Hasina\\ 's Awami League won a second consecutive term after a bloody parliamentary election boycotted by the main opposition Bangladesh Nationalist Party ( BNP ) . The BNP , led by rival Khaleda Zia , has stepped up protests this year to try and force Hasina to step down and hold a new vote after last year\\ 's poll , deemed by international observers to be flawed . Voter turnout was barely 5 percent , he said , adding , \\\"We participated in the city polls to restore democracy . Bangladesh Opposition Boycotts Mayoral Elections , Calls Them Rigged . published : 28 Apr 2015 . views : 200 . Bangladesh\\ 's main opposition party on Tuesday boycotted three mayoral elections over accusations of massive rigging , fanning fears of further unrest in the South Asian nation . Political uncertainty has prevailed since January 2014 , when Prime Minister Sheikh Hasina\\ 's Awami League won a second consecutive term after a bloody parliamentary election boycotted by the main opposition Bangladesh Nationalist Party ( BNP ) . The BNP , led by rival Khaleda Zia , has stepped up protests this year to try and force Hasina to step down and hold a new vote after last year\\ 's poll , deemed by international observers to be flawed . Voter turnout was barely 5 percent , he said , adding , \\\"We participated in the city polls to restore democracy . Opposition Boycotts Violence - Plagued Bangladesh Elections ( LinkAsia : 1/10/14 ) . A total of 18 opposition parties , led by the influential Bangladesh Nationalist Party , boycotted last week\\ 's parliamentary elections . Violence broke out between the opposition and the ruling Awami League . LinkAsia speaks with political science professor Ali Riaz about the impact and historical foundations of this crisis . PHOTO : Protesters shout slogans during a clash with police in Gaibandha : REUTERS / Stringer ... . Opposition Boycotts Violence - Plagued Bangladesh Elections ( LinkAsia : 1/10/14 ) . published : 14 Jan 2014 . views : 1584 . A total of 18 opposition parties , led by the influential Bangladesh Nationalist Party , boycotted last week\\ 's parliamentary elections . Violence broke out between the opposition and the ruling Awami League . LinkAsia speaks with political science professor Ali Riaz about the impact and historical foundations of this crisis . PHOTO : Protesters shout slogans during a clash with police in Gaibandha : REUTERS / Stringer ... . BNP Top Leader , Nazrul Islam Khan 's Conspiracy to Boycott City Polls in Bangladesh . BNP Top Leader , Nazrul Islam Khan 's Conspiracy to Boycott City Polls in Bangladesh . published : 28 Apr 2015 . views : 4413 . BANGLADESH : DHAKA : ELECTIONS BOYCOTTED BY OPPOSITION PARTIES . BANGLADESH : DHAKA : ELECTIONS BOYCOTTED BY OPPOSITION PARTIES . English / Nat The first parliamentary elections in five years have taken place in Bangladesh , boycotted by opposition parties which called a 48 hour strike . With the opposition not taking part , Prime Minister Khaleda Zia\\ 's Bangladesh Nationalist Party was certain to win an overwhelming majority . There was a low voter turnout at the polls and a high military presence in the street due to the boycott and threats of violence . There was a heavy military presence on the streets of Dhaka as the election , the first for five years , took place . At least six people have been killed in clashes , raising to at least 29 the number of people killed in election - related violence in the last three weeks . While the soldiers might have been out in force , there were precious few voters . Most had stayed away through fear of violence and at the behest of opposition parties who are boycotting the elections and called a 48-hour strike . The opposition accuses the government and the ruling Bangladeshi Nationalist Party ( BNP ) of corruption . The government admits the opposition call for a general strike has kept many voters at home . SOUNDBITE : Yes since a few of the opposition parties have called for the general strike . There have been a few people , there will be some people who are afraid in case of the strike . Some will not want to come out of their houses . SUPER CAPTION : Abdul Manman , Minister of Civil Aviation . Later the Prime Minister Khaleda Zia came to cast her vote , the media outnumbering the security . The results are not in doubt . Khaleda Zia and the BNP ... . BANGLADESH : DHAKA : ELECTIONS BOYCOTTED BY OPPOSITION PARTIES . published : 21 Jul 2015 . views : 644 . English / Nat The first parliamentary elections in five years have taken place in Bangladesh , boycotted by opposition parties which called a 48 hour strike . With the opposition not taking part , Prime Minister Khaleda Zia\\ 's Bangladesh Nationalist Party was certain to win an overwhelming majority . There was a low voter turnout at the polls and a high military presence in the street due to the boycott and threats of violence . There was a heavy military presence on the streets of Dhaka as the election , the first for five years , took place . At least six people have been killed in clashes , raising to at least 29 the number of people killed in election - related violence in the last three weeks . While the soldiers might have been out in force , there were precious few voters . Most had stayed away through fear of violence and at the behest of opposition parties who are boycotting the elections and called a 48-hour strike . The opposition accuses the government and the ruling Bangladeshi Nationalist Party ( BNP ) of corruption . The government admits the opposition call for a general strike has kept many voters at home . SOUNDBITE : Yes since a few of the opposition parties have called for the general strike . There have been a few people , there will be some people who are afraid in case of the strike . Some will not want to come out of their houses . SUPER CAPTION : Abdul Manman , Minister of Civil Aviation . Later the Prime Minister Khaleda Zia came to cast her vote , the media outnumbering the security . The results are not in doubt . Khaleda Zia and the BNP ... . Inside Story - Bangladesh elections : The ' battling . Inside Story - Bangladesh elections : The ' battling . Is the power struggle driven by politics or personal hatred between two political leaders ? Inside Story - Bangladesh elections : The ' battling . published : 04 Jan 2014 . views : 4224 . Is the power struggle driven by politics or personal hatred between two political leaders ? Bangladesh ruling Awami League wins election scarred by violence and boycotts . The opposition Bangladesh National Party which led a nationwide strike on Sunday has demanded a second walk out and for the poll to be declared null and void . Prime Minister Sheikh Hasina had rejected demands for her to step down and set up a neutral government to oversee the election which was scarred by violence . At least 21 people reportedly died during polling on Sunday . \\\"I read in the newspapers that there was massive fraud in the Dhaka polling stations and that many people were killed . I can not accept this was a valid election,\\ \" opined one man . The turn out was in marked contrast to the election of 2008 when more than 70 percent voted . Just over 20 percent reportedly took part this time with officials blaming the boycott and violence for the low numbers . In the run up to the ballot scores of opposition supporters died in police shootings . All elections in Bangladesh had been held under a neutral caretaker administration since 1991 . But the ruling party abolished the system three years ago . Find us on : You ... . Bangladesh ruling Awami League wins election scarred by violence and boycotts . published : 06 Jan 2014 . views : 249 . The opposition Bangladesh National Party which led a nationwide strike on Sunday has demanded a second walk out and for the poll to be declared null and void . Prime Minister Sheikh Hasina had rejected demands for her to step down and set up a neutral government to oversee the election which was scarred by violence . At least 21 people reportedly died during polling on Sunday . \\\"I read in the newspapers that there was massive fraud in the Dhaka polling stations and that many people were killed . I can not accept this was a valid election,\\ \" opined one man . The turn out was in marked contrast to the election of 2008 when more than 70 percent voted . Just over 20 percent reportedly took part this time with officials blaming the boycott and violence for the low numbers . In the run up to the ballot scores of opposition supporters died in police shootings . All elections in Bangladesh had been held under a neutral caretaker administration since 1991 . But the ruling party abolished the system three years ago . Find us on : You ... . Clashes and boycott mar Bangladesh election . Clashes and boycott mar Bangladesh election . At least 18 people are dead and many more are injured after violent clashes between opposition activists and police during Bangladesh\\ 's general election . T. Kumar , the International Advocacy Director for Amnesty International USA , tells CCTV America his reaction to the events surrounding the election in Bangladesh .... . Clashes and boycott mar Bangladesh election . published : 06 Jan 2014 . views : 18 . At least 18 people are dead and many more are injured after violent clashes between opposition activists and police during Bangladesh\\ 's general election . T. Kumar , the International Advocacy Director for Amnesty International USA , tells CCTV America his reaction to the events surrounding the election in Bangladesh .... . Bangladesh Opposition Tells People To Boycott Polls . Bangladesh Opposition Tells People To Boycott Polls . Bangladesh opposition tells people to boycott polls Dhaka , Dec 24 ( IANS ) Bangladesh\\ 's main opposition Tuesday urged people from all walks of life to march towards Dhaka Dec 29 to stall the country\\ 's upcoming parliamentary elections , a media report said . Led by former prime minister Khaleda Zia , the Bangladesh Nationalist Party ( BNP ) asked people from across the country to gather in front of the party\\ 's central office in the capital , The Daily Star reported . The march is another attempt by the opposition to force the Sheikh Hasina - led Awami League government to scrap the Jan 5 elections . \\\"The Awami League will have to shoulder the responsibility for all unwanted incidents now taking place due to this,\\ \" Zia said at a press conference . Bangladesh Opposition Tells People To Boycott Polls . published : 24 Dec 2013 . views : 174 . Bangladesh opposition tells people to boycott polls Dhaka , Dec 24 ( IANS ) Bangladesh\\ 's main opposition Tuesday urged people from all walks of life to march towards Dhaka Dec 29 to stall the country\\ 's upcoming parliamentary elections , a media report said . Led by former prime minister Khaleda Zia , the Bangladesh Nationalist Party ( BNP ) asked people from across the country to gather in front of the party\\ 's central office in the capital , The Daily Star reported . The march is another attempt by the opposition to force the Sheikh Hasina - led Awami League government to scrap the Jan 5 elections . \\\"The Awami League will have to shoulder the responsibility for all unwanted incidents now taking place due to this,\\ \" Zia said at a press conference . BNP Top Leader , Nazrul Islam Khan 's Conspiracy to Boycott City Polls in Bangladesh . BNP Top Leader , Nazrul Islam Khan\\ 's Conspiracy to Boycott City ... BNP Top Leader , Nazrul Islam Khan\\ 's Conspiracy to Boycott City Polls in Bangladesh বিএনপি কর্মীঃ হ্যালো সালামুয়ালাইকুম স্যার । নজরুল ইসলাম খানঃ ওয়ালাইকুম সালাম । আপনি কোথায় ? BNP Top Leader , Nazrul Islam Khan 's Conspiracy to Boycott City Polls in Bangladesh . published : 28 Apr 2015 . views : 160 . BNP Top Leader , Nazrul Islam Khan\\ 's Conspiracy to Boycott City ... BNP Top Leader , Nazrul Islam Khan\\ 's Conspiracy to Boycott City Polls in Bangladesh বিএনপি কর্মীঃ হ্যালো সালামুয়ালাইকুম স্যার । নজরুল ইসলাম খানঃ ওয়ালাইকুম সালাম । আপনি কোথায় ? Hussain Muhammad Ershad- Chairman of Jatiya Party of Bangladesh boycotts election . HM Ershad , Founder and Chairman of Bangladesh Jatiyo Party declared that he would not participated in this election if all parties are not participated especially BNP . Though he talks one in the morning and another in the evening but there are a lot of reasons . We do not know that reasons . We should know it . Actually HM Ershad is not a bad politician . He developed a lot of thing during his period . He was a wonderful politician . He loves people and likes people . HM Ershad may boycott election in the current situation . We can salute him for his decision .... . Hussain Muhammad Ershad- Chairman of Jatiya Party of Bangladesh boycotts election . published : 04 Dec 2013 . views : 1621 . HM Ershad , Founder and Chairman of Bangladesh Jatiyo Party declared that he would not participated in this election if all parties are not participated especially BNP . Though he talks one in the morning and another in the evening but there are a lot of reasons . We do not know that reasons . We should know it . Actually HM Ershad is not a bad politician . He developed a lot of thing during his period . He was a wonderful politician . He loves people and likes people . HM Ershad may boycott election in the current situation . We can salute him for his decision .... . Sheikh Hasina wins again after BNP boycotts Bangladesh 's general elections . New Delhi , Jan 13 ( ANI ) : An election somewhat tarnished by bloody street violence and boycott by a major political party but Bangladesh has decided to stay on course . The Awami League won 232 of the 300 elected seats much more than the 151 needed for a majority . Speaker Shirin Sharmin Chaudhury administered the oath to the new lawmakers including party president Sheikh Hasina . Satisfied over his election win , Awami League lawmaker , Mohammad Subid Ali Bhuiyan assured the people that the party would fulfill all its electoral promises . The BNP which had boycotted the election is continuing its agitation against the election calling it a farce .... . Sheikh Hasina wins again after BNP boycotts Bangladesh 's general elections . published : 13 Jan 2014 . views : 1286 . New Delhi , Jan 13 ( ANI ) : An election somewhat tarnished by bloody street violence and boycott by a major political party but Bangladesh has decided to stay on course . The Awami League won 232 of the 300 elected seats much more than the 151 needed for a majority . Speaker Shirin Sharmin Chaudhury administered the oath to the new lawmakers including party president Sheikh Hasina . Satisfied over his election win , Awami League lawmaker , Mohammad Subid Ali Bhuiyan assured the people that the party would fulfill all its electoral promises . The BNP which had boycotted the election is continuing its agitation against the election calling it a farce .... . Bangladesh parties threaten to boycott elections - 12 Oct 08 . The two main political parties in Bangladesh say they will boycott December\\ 's general elections if corruption charges against their leaders are not dropped . Supporters of the Bangladesh Nationalist Party ( BNP ) have also condemned the Electoral Commission\\ 's decision to ban religious - based parties from running in the elections . Al Jazeera\\ 's Nicholas Haque reports .... . Bangladesh parties threaten to boycott elections - 12 Oct 08 . published : 12 Oct 2008 . views : 7938 . The two main political parties in Bangladesh say they will boycott December\\ 's general elections if corruption charges against their leaders are not dropped . Supporters of the Bangladesh Nationalist Party ( BNP ) have also condemned the Electoral Commission\\ 's decision to ban religious - based parties from running in the elections . Al Jazeera\\ 's Nicholas Haque reports .... . Bangladesh\\ 's main opposition party on Tuesday boycotted three mayoral elections over accusations of massive rigging , fanning fears of further unrest in the South Asian nation . Political uncertainty has prevailed since January 2014 , when Prime Minister Sheikh Hasina\\ 's Awami League won a second consec . A total of 18 opposition parties , led by the influential Bangladesh Nationalist Party , boycotted last week\\ 's parliamentary elections . Violence broke out between the opposition and the ruling Awami League . LinkAsia speaks with political science professor Ali Riaz about the impact and historical found . English / Nat The first parliamentary elections in five years have taken place in Bangladesh , boycotted by opposition parties which called a 48 hour strike . With the opposition not taking part , Prime Minister Khaleda Zia\\ 's Bangladesh Nationalist Party was certain to win an overwhelming majority . Is the power struggle driven by politics or personal hatred between two political leaders ? Inside Story presenter David Foster . At least 18 people are dead and many more are injured after violent clashes between opposition activists and police during Bangladesh\\ 's general election . T. Kumar , the International Advocacy Director for Amnesty International USA , tells CCTV America his reaction to the events surrounding the electi . Bangladesh opposition tells people to boycott polls Dhaka , Dec 24 ( IANS ) Bangladesh\\ 's main opposition Tuesday urged people from all walks of life to march towards Dhaka Dec 29 to stall the country\\ 's upcoming parliamentary elections , a media report said . Led by former prime minister Khaleda Zia , the . BNP Top Leader , Nazrul Islam Khan\\ 's Conspiracy to Boycott City ... BNP Top Leader , Nazrul Islam Khan\\ 's Conspiracy to Boycott City Polls in Bangladesh বিএনপি কর্মীঃ হ্যালো সালামুয়ালাইকুম স্যার । নজরুল ইসলাম খানঃ ওয়ালাইকুম সালাম । আপনি কোথায় ? HM Ershad , Founder and Chairman of Bangladesh Jatiyo Party declared that he would not participated in this election if all parties are not participated especially BNP . Though he talks one in the morning and another in the evening but there are a lot of reasons . We do not know that reasons . We should . New Delhi , Jan 13 ( ANI ) : An election somewhat tarnished by bloody street violence and boycott by a major political party but Bangladesh has decided to stay on course . The Awami League won 232 of the 300 elected seats much more than the 151 needed for a majority . Speaker Shirin Sharmin Chaudhury admi . The two main political parties in Bangladesh say they will boycott December\\ 's general elections if corruption charges against their leaders are not dropped . Supporters of the Bangladesh Nationalist Party ( BNP ) have also condemned the Electoral Commission\\ 's decision to ban religious - based parties . For any copy . The Awami League won the violence hit general election this week as was expected and is poised to form the government next week . The other main political party the BNP which boycotted the election has now painted itself into a corner . All the six other political parties which have representation in . In Bangladesh , voting is underway for a new parliament amid deadly violence and an opposition boycott . Polling centers are open in only 147 constituencies as 153 seats have already been filled because there was only one candidate . Due to the boycott , the ruling Awami League is certain to sweep to v . Boycott and Violence Mar Elections in Bangladesh The main opposition group refused to participate in the voting , driving down turnout , and political violence left at least 19 people dead . Bangladesh\\ 's ruling Awami League has won a violence - plagued general election whose outcome was never in doubt , according to preliminary results . The main opposition boycotted the election , resulting in violent clashes at polling stations and extremely low voter turnout . At least 18 people were kil . Dhaka , Dec 06 ( ANI ) : Four ministers of Jatiya Party were likely to quit the Bangladesh\\ 's interim government , as their party chief Hussain Mohammad Ershad decided to boycott January parliament polls over formation of a neutral caretaker government . Decision of Ershad has come as a blow to the ruling . People in Bangladesh cast ballots in a general election on Sunday despite a boycott by the opposition parties . Next Bangladeshi general election . General elections in Bangladesh must be held within 90 days of the expiration of the Parliament . Since the ninth parliament expires on December 29 , 2013 , Article 123 of the Constitution of Bangladesh requires general elections to be held by January 1 , 2014 or earlier if the parliament is dissolved before its term expires . As many of you have noticed , the site is experiencing issues that affect editing and display of images . This is due to resource limitations on the current server setup . I am in the process of moving the site to a dedicated server . This should be completed in a day or two . The Shield is a controversial and ground - breaking cop show that aired on FX . Created by Shawn Ryan , the show premiered in 2002 to a large cable audience : one of the highest ratings for a pilot in cable history . Since then , it has met with much critical praise , a consistently good ratings base , several awards , and much contempt from such organizations as the Parents Television Council . Taking place in the fictional Farmington district of Los Angeles , The Shield examines the ambiguity of justice : as its tag line states , \" The Road to Justice is Twisted \" . The action centers around the police headquarters known as \" The Barn \" , where veteran cop Vic Mackey ( played by Emmy - winner Michael Chiklis ) runs the elite Strike Team with Shane Vendrell , Curtis \" Lemonhead \" Lemansky and Ronnie Gardocki . The Strike Team has a reputation for getting results out on the streets and is responsible for dropping crime rates . However , the Strike Team is also a tremendous source of controversy and a headache for the ambitious Police Chief David Aceveda , who does n't approve of the Strike Team 's brutal methods but seems ineffective at stopping them . The Barn 's other cops include the professional Detectives Claudette Wyms and her highly intelligent but neurotic loser partner Holland \" Dutch \" Wagenbach , and Officer Danielle \" Danny \" Sofer and her rookie partner Officer Julien Lowe . Much of the praise for The Shield is aimed at its writers , who manage to flesh its characters out beyond the usual cop show clichés and take a no - holds barred approach to portraying the different characters ' versions of \" justice \" as seen on the show . The Shield is also notable for its realistic portrayal of racial conflicts and Los Angeles gangs ( though the gangs portrayed in the show are fictional , they often seem oddly similar to some real - life gangs ) . The superb acting performances have earned rave reviews all around and actor Michael Chiklis an Emmy . However , with abundant profanity , violence and nudity integral to its plots , The Shield has become a target for the Parents Television Council , a \" television decency \" group , who have led boycotts intended to keep the show from airing . The PTC 's campaign has not been successful and the show continues with the sixth season currently airing on FX , Tuesday nights at 10 pm Eastern . A video game based upon The Shield produced by Sammy Studios was scheduled to be released in 2005 , but was shelved when the company was acquired by High Moon Studios . \n"
     ]
    }
   ],
   "source": [
    "import sys\n",
    "import json\n",
    "import requests\n",
    "################################################################################\n",
    "# Filtering\n",
    "################################################################################\n",
    "pretty = lambda x : json.dumps(x, indent=2, sort_keys=True)\n",
    "solr_select = 'http://localhost:8983/solr/depcc-small/select?q='\n",
    "train_path  = 'data/04-hyper/train.jsonl'\n",
    "#train_path  = 'data/02-acl-arc/train.jsonl'\n",
    "#train_path  = 'data/07-imdb/train.jsonl'\n",
    "with open(train_path, 'r') as train_file:\n",
    "    json_lines = []\n",
    "    lines = train_file.readlines()\n",
    "    for line in lines:\n",
    "        j = json.loads(line)\n",
    "        json_lines.append(j)\n",
    "N = len(json_lines)\n",
    "print(N)\n",
    "\n",
    "# Query with training example\n",
    "j = json_lines[0]\n",
    "query = j['text'].replace(' ', '+')\n",
    "#query = \"\"\n",
    "#with open('data/02-acl-arc/lda_union.txt', 'r') as file:\n",
    "#    query = file.read()\n",
    "print(query)\n",
    "#print(len(query.split()))\n",
    "#sys.exit()\n",
    "rp_retrieval = requests.get(solr_select + query).json()\n",
    "cc_docs = (rp_retrieval['response']['docs'])\n",
    "print('Number of retrieved documents: %d' % len(cc_docs))\n",
    "cc_doc0 = json.loads(cc_docs[0]['_src_'])\n",
    "cc_doc100 = \"\"\n",
    "for i in range(10):\n",
    "    cc_doc100 += json.loads(cc_docs[i]['_src_'])['text']\n",
    "print(cc_doc100)\n",
    "################################################################################"
   ]
  },
  {
   "cell_type": "markdown",
   "metadata": {
    "pycharm": {
     "name": "#%% md\n"
    }
   },
   "source": [
    "### Segmentation by 100 Tokens(Documents -> Passages)"
   ]
  },
  {
   "cell_type": "code",
   "execution_count": 3,
   "metadata": {
    "pycharm": {
     "name": "#%%\n"
    },
    "scrolled": true
   },
   "outputs": [
    {
     "data": {
      "text/plain": [
       "\"\\n\\n\\ncc_words = cc_doc100.split()\\n\\ncc_psgs = []\\nnum_psgs = len(cc_words) // 100\\nprint('Number of passages: %d ' % num_psgs)\\nfor i in range(num_psgs):\\n    start = i * 100\\n    end   = -1 if (i == num_psgs-1) else (i+1) * 100\\n    psg = ' '.join(cc_words[start:end])\\n    dict = {'doc_id' : val_url, 'doc_text'  : psg,  'title': ''  }\\n    cc_psgs.append(dict)\\n\\nprint('Passage 0')\\nprint(cc_psgs[0]['doc_text'])\\n\""
      ]
     },
     "execution_count": 3,
     "metadata": {},
     "output_type": "execute_result"
    }
   ],
   "source": [
    "################################################################################\n",
    "# Segmentation\n",
    "################################################################################\n",
    "#val_url = cc_doc0['url']\n",
    "#print(val_url)\n",
    "#val_s3 = cc_doc0['s3']\n",
    "#print(val_s3)\n",
    "#cc_words = cc_doc0['text'].split()\n",
    "'''\n",
    "\n",
    "\n",
    "cc_words = cc_doc100.split()\n",
    "\n",
    "cc_psgs = []\n",
    "num_psgs = len(cc_words) // 100\n",
    "print('Number of passages: %d ' % num_psgs)\n",
    "for i in range(num_psgs):\n",
    "    start = i * 100\n",
    "    end   = -1 if (i == num_psgs-1) else (i+1) * 100\n",
    "    psg = ' '.join(cc_words[start:end])\n",
    "    dict = {'doc_id' : val_url, 'doc_text'  : psg,  'title': ''  }\n",
    "    cc_psgs.append(dict)\n",
    "\n",
    "print('Passage 0')\n",
    "print(cc_psgs[0]['doc_text'])\n",
    "'''"
   ]
  },
  {
   "cell_type": "markdown",
   "metadata": {},
   "source": [
    "### Segmentation by sentences(Documents -> Passages)"
   ]
  },
  {
   "cell_type": "code",
   "execution_count": 4,
   "metadata": {},
   "outputs": [],
   "source": [
    "#!python -m spacy download en_core_web_sm\n",
    "import spacy\n",
    "\n",
    "nlp = spacy.load(\"en_core_web_sm\", exclude=[\"parser\"])\n",
    "nlp.enable_pipe(\"senter\")\n",
    "doc = nlp(cc_doc100)\n",
    "cc_psgs = []\n",
    "psg = ''\n",
    "num_tokens = 0\n",
    "for sent in doc.sents:\n",
    "    if num_tokens < 100:\n",
    "        psg += sent.text\n",
    "        num_tokens += len(sent)\n",
    "    else:\n",
    "#        print(num_tokens)\n",
    "        cc_psgs.append({'doc_id' : '', 'doc_text'  : psg,  'title': ''  })\n",
    "        num_tokens = 0\n",
    "        psg = ''\n",
    "#print(len(cc_psgs))"
   ]
  },
  {
   "cell_type": "markdown",
   "metadata": {
    "pycharm": {
     "name": "#%% md\n"
    }
   },
   "source": [
    "### Encoding Preparation"
   ]
  },
  {
   "cell_type": "code",
   "execution_count": 5,
   "metadata": {
    "pycharm": {
     "name": "#%%\n"
    }
   },
   "outputs": [
    {
     "name": "stdout",
     "output_type": "stream",
     "text": [
      "CC sample\n",
      "STOKING FIRE : Anti - Choice Boycotts Continue , but Will Businesses Continue to Give In ?A little more than a year ago , the evangelical Christian group , Repent America , kicked off a campaign against Stericycle , a national medical waste disposal company .The goal ?To cripple abortion clinics by making it impossible for them to dispose of fetal remains , sharps , and other surgical throwaways .The organization calls Stericycle \" a modern - day Auschwitz \" and equates the company with German businesses that supported Hitler 's genocidal policies . \"Government entities , police forces , military troops , and even civilians from a number of countries aided the Nazis in the destruction of the Jewish people , \" their website begins .\n",
      "\n",
      "train sample\n",
      "As seen on The Five Police Group Boycotts Ben &amp; Jerry's After Black Lives Matter Endorsement As more women come forward with allegations of sexual misconduct against Donald Trump, the Republican nominee is lashing out at the mainstream media, which he claims is running with this \"total fiction\" to distract from Hillary Clinton's scandals. At a rally in Greensboro, N.C., Trump said these accusations are part of a conspiracy involving the Clinton campaign and what he called “the corrupt media.” Greg Gutfeld agreed with much of Trump's assessment on \"The Five\" today, saying, \"The media wants Hillary to win. There's no doubt about that.\" Judge Jeanine on Trump Accusers: 'All on One Day? It's a Little Too Convenient' Gutfeld explained that Trump has actually been \"set up,\" as he was given countless hours of coverage and \"billions of dollars of free media,\" only to have the rug pulled out from under him. \"The media ... [and] Hillary and Obama, they knew elevating Donald Trump - giving him an air of respectability in the press, as well - turned him into the Republican nominee. Then, out came the knives.\" Watch the co-hosts of \"The Five\" discuss above, and let us know what you think in the comments. New WikiLeaks Bombshell: Clinton Aides Discussed 'Emails to and from POTUS'\n"
     ]
    }
   ],
   "source": [
    "################################################################################\n",
    "# Encoding Preparation\n",
    "################################################################################\n",
    "\n",
    "import csv\n",
    "import subprocess\n",
    "\n",
    "# Prepare cc_sample.tsv\n",
    "f_out = 'emb/cc_sample.tsv'\n",
    "with open(f_out, 'w') as output_file:\n",
    "    dw = csv.DictWriter(output_file, cc_psgs[0].keys(), delimiter='\\t')\n",
    "    for psg in cc_psgs:\n",
    "        dw.writerow(psg)\n",
    "print('CC sample')\n",
    "print(cc_psgs[0]['doc_text'])  \n",
    "print()\n",
    "# Prepare train_sample.tsv\n",
    "num_train = len(json_lines)\n",
    "train_psgs = []\n",
    "for i in range(num_train):\n",
    "    train_dict = {'doc_id': str(i), 'doc_text': json_lines[i]['text'], 'title': ''}\n",
    "    train_psgs.append(train_dict)\n",
    "    \n",
    "print('train sample')\n",
    "print(train_psgs[0]['doc_text'])\n",
    "\n",
    "f_train_out = 'emb/train_sample.tsv'\n",
    "with open(f_train_out, 'w') as output_file:\n",
    "    dw = csv.DictWriter(output_file, train_psgs[0].keys(), delimiter='\\t')\n",
    "    for tp in train_psgs:\n",
    "        dw.writerow(tp)"
   ]
  },
  {
   "cell_type": "markdown",
   "metadata": {},
   "source": [
    "### Encode CC"
   ]
  },
  {
   "cell_type": "code",
   "execution_count": 6,
   "metadata": {},
   "outputs": [
    {
     "name": "stdout",
     "output_type": "stream",
     "text": [
      "Initialized host node122 as d.rank -1 on device=cuda, n_gpu=1, world size=1\n",
      "16-bits training: False \n",
      "Reading saved model from /mnt/nfs/work1/696ds-s21/hhwang/DPR/data/checkpoint/retriever/multiset/bert-base-encoder.cp\n",
      "model_state_dict keys odict_keys(['model_dict', 'optimizer_dict', 'scheduler_dict', 'offset', 'epoch', 'encoder_params'])\n",
      "Overriding args parameter value from checkpoint state. Param = do_lower_case, value = True\n",
      "Overriding args parameter value from checkpoint state. Param = pretrained_model_cfg, value = bert-base-uncased\n",
      "Overriding args parameter value from checkpoint state. Param = encoder_model_type, value = hf_bert\n",
      "Overriding args parameter value from checkpoint state. Param = sequence_length, value = 256\n",
      " **************** CONFIGURATION **************** \n",
      "batch_size                     -->   32\n",
      "ctx_file                       -->   /mnt/nfs/work1/696ds-s21/hhwang/da/emb/cc_sample.tsv\n",
      "device                         -->   cuda\n",
      "distributed_world_size         -->   1\n",
      "do_lower_case                  -->   True\n",
      "encoder_model_type             -->   hf_bert\n",
      "fp16                           -->   False\n",
      "fp16_opt_level                 -->   O1\n",
      "local_rank                     -->   -1\n",
      "model_file                     -->   /mnt/nfs/work1/696ds-s21/hhwang/DPR/data/checkpoint/retriever/multiset/bert-base-encoder.cp\n",
      "n_gpu                          -->   1\n",
      "no_cuda                        -->   False\n",
      "num_shards                     -->   1\n",
      "out_file                       -->   /mnt/nfs/work1/696ds-s21/hhwang/da/emb/cc_sample\n",
      "pretrained_file                -->   None\n",
      "pretrained_model_cfg           -->   bert-base-uncased\n",
      "projection_dim                 -->   0\n",
      "sequence_length                -->   256\n",
      "shard_id                       -->   0\n",
      " **************** CONFIGURATION **************** \n",
      "PyTorch version 1.7.1 available.\n",
      "loading configuration file https://s3.amazonaws.com/models.huggingface.co/bert/bert-base-uncased-config.json from cache at /home/hhwang/.cache/torch/transformers/4dad0251492946e18ac39290fcfe91b89d370fee250efe9521476438fe8ca185.7156163d5fdc189c3016baca0775ffce230789d7fa2a42ef516483e4ca884517\n",
      "Model config BertConfig {\n",
      "  \"architectures\": [\n",
      "    \"BertForMaskedLM\"\n",
      "  ],\n",
      "  \"attention_probs_dropout_prob\": 0.1,\n",
      "  \"gradient_checkpointing\": false,\n",
      "  \"hidden_act\": \"gelu\",\n",
      "  \"hidden_dropout_prob\": 0.1,\n",
      "  \"hidden_size\": 768,\n",
      "  \"initializer_range\": 0.02,\n",
      "  \"intermediate_size\": 3072,\n",
      "  \"layer_norm_eps\": 1e-12,\n",
      "  \"max_position_embeddings\": 512,\n",
      "  \"model_type\": \"bert\",\n",
      "  \"num_attention_heads\": 12,\n",
      "  \"num_hidden_layers\": 12,\n",
      "  \"pad_token_id\": 0,\n",
      "  \"type_vocab_size\": 2,\n",
      "  \"vocab_size\": 30522\n",
      "}\n",
      "\n",
      "loading weights file https://cdn.huggingface.co/bert-base-uncased-pytorch_model.bin from cache at /home/hhwang/.cache/torch/transformers/f2ee78bdd635b758cc0a12352586868bef80e47401abe4c4fcc3832421e7338b.36ca03ab34a1a5d5fa7bc3d03d55c4fa650fed07220e2eeebc06ce58d0e9a157\n",
      "All model checkpoint weights were used when initializing HFBertEncoder.\n",
      "\n",
      "All the weights of HFBertEncoder were initialized from the model checkpoint at bert-base-uncased.\n",
      "If your task is similar to the task the model of the ckeckpoint was trained on, you can already use HFBertEncoder for predictions without further training.\n",
      "loading configuration file https://s3.amazonaws.com/models.huggingface.co/bert/bert-base-uncased-config.json from cache at /home/hhwang/.cache/torch/transformers/4dad0251492946e18ac39290fcfe91b89d370fee250efe9521476438fe8ca185.7156163d5fdc189c3016baca0775ffce230789d7fa2a42ef516483e4ca884517\n",
      "Model config BertConfig {\n",
      "  \"architectures\": [\n",
      "    \"BertForMaskedLM\"\n",
      "  ],\n",
      "  \"attention_probs_dropout_prob\": 0.1,\n",
      "  \"gradient_checkpointing\": false,\n",
      "  \"hidden_act\": \"gelu\",\n",
      "  \"hidden_dropout_prob\": 0.1,\n",
      "  \"hidden_size\": 768,\n",
      "  \"initializer_range\": 0.02,\n",
      "  \"intermediate_size\": 3072,\n",
      "  \"layer_norm_eps\": 1e-12,\n",
      "  \"max_position_embeddings\": 512,\n",
      "  \"model_type\": \"bert\",\n",
      "  \"num_attention_heads\": 12,\n",
      "  \"num_hidden_layers\": 12,\n",
      "  \"pad_token_id\": 0,\n",
      "  \"type_vocab_size\": 2,\n",
      "  \"vocab_size\": 30522\n",
      "}\n",
      "\n",
      "loading weights file https://cdn.huggingface.co/bert-base-uncased-pytorch_model.bin from cache at /home/hhwang/.cache/torch/transformers/f2ee78bdd635b758cc0a12352586868bef80e47401abe4c4fcc3832421e7338b.36ca03ab34a1a5d5fa7bc3d03d55c4fa650fed07220e2eeebc06ce58d0e9a157\n",
      "All model checkpoint weights were used when initializing HFBertEncoder.\n",
      "\n",
      "All the weights of HFBertEncoder were initialized from the model checkpoint at bert-base-uncased.\n",
      "If your task is similar to the task the model of the ckeckpoint was trained on, you can already use HFBertEncoder for predictions without further training.\n",
      "loading file https://s3.amazonaws.com/models.huggingface.co/bert/bert-base-uncased-vocab.txt from cache at /home/hhwang/.cache/torch/transformers/26bc1ad6c0ac742e9b52263248f6d0f00068293b33709fae12320c0e35ccfbbb.542ce4285a40d23a559526243235df47c5f75c197f04f37d1a0c124c32c9a084\n",
      "Loading saved model state ...\n",
      "reading data from file=/mnt/nfs/work1/696ds-s21/hhwang/da/emb/cc_sample.tsv\n",
      "Producing encodings for passages range: 0 to 98 (out of total 98)\n",
      "Writing results to /mnt/nfs/work1/696ds-s21/hhwang/da/emb/cc_sample_0.pkl\n",
      "Total passages processed 98. Written to /mnt/nfs/work1/696ds-s21/hhwang/da/emb/cc_sample_0.pkl\n"
     ]
    }
   ],
   "source": [
    "# Encode cc_sample (tsv->embedding)\n",
    "!bash emb/generate_embedding.sh cc_sample"
   ]
  },
  {
   "cell_type": "markdown",
   "metadata": {},
   "source": [
    "### Encode Train Sample"
   ]
  },
  {
   "cell_type": "code",
   "execution_count": 7,
   "metadata": {},
   "outputs": [
    {
     "name": "stdout",
     "output_type": "stream",
     "text": [
      "Initialized host node122 as d.rank -1 on device=cuda, n_gpu=1, world size=1\n",
      "16-bits training: False \n",
      "Reading saved model from /mnt/nfs/work1/696ds-s21/hhwang/DPR/data/checkpoint/retriever/multiset/bert-base-encoder.cp\n",
      "model_state_dict keys odict_keys(['model_dict', 'optimizer_dict', 'scheduler_dict', 'offset', 'epoch', 'encoder_params'])\n",
      "Overriding args parameter value from checkpoint state. Param = do_lower_case, value = True\n",
      "Overriding args parameter value from checkpoint state. Param = pretrained_model_cfg, value = bert-base-uncased\n",
      "Overriding args parameter value from checkpoint state. Param = encoder_model_type, value = hf_bert\n",
      "Overriding args parameter value from checkpoint state. Param = sequence_length, value = 256\n",
      " **************** CONFIGURATION **************** \n",
      "batch_size                     -->   32\n",
      "ctx_file                       -->   /mnt/nfs/work1/696ds-s21/hhwang/da/emb/train_sample.tsv\n",
      "device                         -->   cuda\n",
      "distributed_world_size         -->   1\n",
      "do_lower_case                  -->   True\n",
      "encoder_model_type             -->   hf_bert\n",
      "fp16                           -->   False\n",
      "fp16_opt_level                 -->   O1\n",
      "local_rank                     -->   -1\n",
      "model_file                     -->   /mnt/nfs/work1/696ds-s21/hhwang/DPR/data/checkpoint/retriever/multiset/bert-base-encoder.cp\n",
      "n_gpu                          -->   1\n",
      "no_cuda                        -->   False\n",
      "num_shards                     -->   1\n",
      "out_file                       -->   /mnt/nfs/work1/696ds-s21/hhwang/da/emb/train_sample\n",
      "pretrained_file                -->   None\n",
      "pretrained_model_cfg           -->   bert-base-uncased\n",
      "projection_dim                 -->   0\n",
      "sequence_length                -->   256\n",
      "shard_id                       -->   0\n",
      " **************** CONFIGURATION **************** \n",
      "PyTorch version 1.7.1 available.\n",
      "loading configuration file https://s3.amazonaws.com/models.huggingface.co/bert/bert-base-uncased-config.json from cache at /home/hhwang/.cache/torch/transformers/4dad0251492946e18ac39290fcfe91b89d370fee250efe9521476438fe8ca185.7156163d5fdc189c3016baca0775ffce230789d7fa2a42ef516483e4ca884517\n",
      "Model config BertConfig {\n",
      "  \"architectures\": [\n",
      "    \"BertForMaskedLM\"\n",
      "  ],\n",
      "  \"attention_probs_dropout_prob\": 0.1,\n",
      "  \"gradient_checkpointing\": false,\n",
      "  \"hidden_act\": \"gelu\",\n",
      "  \"hidden_dropout_prob\": 0.1,\n",
      "  \"hidden_size\": 768,\n",
      "  \"initializer_range\": 0.02,\n",
      "  \"intermediate_size\": 3072,\n",
      "  \"layer_norm_eps\": 1e-12,\n",
      "  \"max_position_embeddings\": 512,\n",
      "  \"model_type\": \"bert\",\n",
      "  \"num_attention_heads\": 12,\n",
      "  \"num_hidden_layers\": 12,\n",
      "  \"pad_token_id\": 0,\n",
      "  \"type_vocab_size\": 2,\n",
      "  \"vocab_size\": 30522\n",
      "}\n",
      "\n",
      "loading weights file https://cdn.huggingface.co/bert-base-uncased-pytorch_model.bin from cache at /home/hhwang/.cache/torch/transformers/f2ee78bdd635b758cc0a12352586868bef80e47401abe4c4fcc3832421e7338b.36ca03ab34a1a5d5fa7bc3d03d55c4fa650fed07220e2eeebc06ce58d0e9a157\n",
      "All model checkpoint weights were used when initializing HFBertEncoder.\n",
      "\n",
      "All the weights of HFBertEncoder were initialized from the model checkpoint at bert-base-uncased.\n",
      "If your task is similar to the task the model of the ckeckpoint was trained on, you can already use HFBertEncoder for predictions without further training.\n",
      "loading configuration file https://s3.amazonaws.com/models.huggingface.co/bert/bert-base-uncased-config.json from cache at /home/hhwang/.cache/torch/transformers/4dad0251492946e18ac39290fcfe91b89d370fee250efe9521476438fe8ca185.7156163d5fdc189c3016baca0775ffce230789d7fa2a42ef516483e4ca884517\n",
      "Model config BertConfig {\n",
      "  \"architectures\": [\n",
      "    \"BertForMaskedLM\"\n",
      "  ],\n",
      "  \"attention_probs_dropout_prob\": 0.1,\n",
      "  \"gradient_checkpointing\": false,\n",
      "  \"hidden_act\": \"gelu\",\n",
      "  \"hidden_dropout_prob\": 0.1,\n",
      "  \"hidden_size\": 768,\n",
      "  \"initializer_range\": 0.02,\n",
      "  \"intermediate_size\": 3072,\n",
      "  \"layer_norm_eps\": 1e-12,\n",
      "  \"max_position_embeddings\": 512,\n",
      "  \"model_type\": \"bert\",\n",
      "  \"num_attention_heads\": 12,\n",
      "  \"num_hidden_layers\": 12,\n",
      "  \"pad_token_id\": 0,\n",
      "  \"type_vocab_size\": 2,\n",
      "  \"vocab_size\": 30522\n",
      "}\n",
      "\n",
      "loading weights file https://cdn.huggingface.co/bert-base-uncased-pytorch_model.bin from cache at /home/hhwang/.cache/torch/transformers/f2ee78bdd635b758cc0a12352586868bef80e47401abe4c4fcc3832421e7338b.36ca03ab34a1a5d5fa7bc3d03d55c4fa650fed07220e2eeebc06ce58d0e9a157\n",
      "All model checkpoint weights were used when initializing HFBertEncoder.\n",
      "\n",
      "All the weights of HFBertEncoder were initialized from the model checkpoint at bert-base-uncased.\n",
      "If your task is similar to the task the model of the ckeckpoint was trained on, you can already use HFBertEncoder for predictions without further training.\n",
      "loading file https://s3.amazonaws.com/models.huggingface.co/bert/bert-base-uncased-vocab.txt from cache at /home/hhwang/.cache/torch/transformers/26bc1ad6c0ac742e9b52263248f6d0f00068293b33709fae12320c0e35ccfbbb.542ce4285a40d23a559526243235df47c5f75c197f04f37d1a0c124c32c9a084\n",
      "Loading saved model state ...\n",
      "reading data from file=/mnt/nfs/work1/696ds-s21/hhwang/da/emb/train_sample.tsv\n",
      "Producing encodings for passages range: 0 to 516 (out of total 516)\n",
      "Encoded passages 160\n",
      "Encoded passages 320\n",
      "Encoded passages 480\n",
      "Writing results to /mnt/nfs/work1/696ds-s21/hhwang/da/emb/train_sample_0.pkl\n",
      "Total passages processed 516. Written to /mnt/nfs/work1/696ds-s21/hhwang/da/emb/train_sample_0.pkl\n"
     ]
    }
   ],
   "source": [
    "# Encode train_sample (tsv-> embedding)\n",
    "!bash emb/generate_embedding.sh train_sample"
   ]
  },
  {
   "cell_type": "code",
   "execution_count": 8,
   "metadata": {},
   "outputs": [
    {
     "name": "stdout",
     "output_type": "stream",
     "text": [
      "516\n",
      "98\n"
     ]
    }
   ],
   "source": [
    "MAX_TR_PSGS = len(train_psgs)\n",
    "MAX_CC_PSGS = len(cc_psgs)\n",
    "print(MAX_TR_PSGS)\n",
    "print(MAX_CC_PSGS)"
   ]
  },
  {
   "cell_type": "markdown",
   "metadata": {
    "pycharm": {
     "name": "#%% md\n"
    }
   },
   "source": [
    "### Nearest Neighbors"
   ]
  },
  {
   "cell_type": "code",
   "execution_count": 9,
   "metadata": {
    "pycharm": {
     "name": "#%%\n"
    }
   },
   "outputs": [
    {
     "name": "stdout",
     "output_type": "stream",
     "text": [
      "(768,)\n",
      "98 768\n",
      "Number of CC passages: 98\n",
      "(768,)\n",
      "10 768\n",
      "Number of train passages: 10\n",
      "[[ 0.10329721 -0.17224678  0.32301617 ... -0.0395911   0.16416611\n",
      "  -0.26728222]\n",
      " [ 0.29424196  0.25070143  0.22906397 ... -0.15961611 -0.08731496\n",
      "  -0.24905857]\n",
      " [-0.15265112  0.08887525  0.2714078  ... -0.04350898  0.16684195\n",
      "  -0.2133444 ]\n",
      " ...\n",
      " [-0.0047478   0.3250353   0.33790597 ... -0.00243538  0.22601245\n",
      "  -0.557334  ]\n",
      " [ 0.18521078 -0.3216699   0.08558078 ...  0.07951526  0.18294588\n",
      "   0.1011693 ]\n",
      " [ 0.35620537 -0.04019444  0.33199826 ...  0.0997697   0.35561934\n",
      "  -0.31909522]]\n",
      "trained? True\n",
      "Total number of indexed CC passages:  98\n",
      "\n",
      "Using an indentical CC set\n",
      "================================================================\n",
      "4 nearest neighbors\n",
      "[[ 0  1  2 ... -1 -1 -1]\n",
      " [ 1  0  6 ... -1 -1 -1]\n",
      " [ 2  0  6 ... -1 -1 -1]\n",
      " [ 3  4  6 ... -1 -1 -1]\n",
      " [ 4  6  3 ... -1 -1 -1]]\n",
      "\n",
      "distances(sanity check)\n",
      "[[0.0000000e+00 3.8639885e+01 5.1613029e+01 ... 3.4028235e+38\n",
      "  3.4028235e+38 3.4028235e+38]\n",
      " [0.0000000e+00 3.8639885e+01 5.5799782e+01 ... 3.4028235e+38\n",
      "  3.4028235e+38 3.4028235e+38]\n",
      " [0.0000000e+00 5.1613029e+01 5.4184769e+01 ... 3.4028235e+38\n",
      "  3.4028235e+38 3.4028235e+38]\n",
      " [0.0000000e+00 4.7154930e+01 5.1259590e+01 ... 3.4028235e+38\n",
      "  3.4028235e+38 3.4028235e+38]\n",
      " [0.0000000e+00 4.0141991e+01 4.7154930e+01 ... 3.4028235e+38\n",
      "  3.4028235e+38 3.4028235e+38]]\n",
      "\n",
      "===============================================================\n",
      "Using the query(train set)\n",
      "4 nearest neighbors\n",
      "[[58 68 79 ... -1 -1 -1]\n",
      " [18 22 48 ... -1 -1 -1]\n",
      " [47 48  6 ... -1 -1 -1]\n",
      " [64 16 22 ... -1 -1 -1]\n",
      " [43 64 65 ... -1 -1 -1]]\n",
      "\n",
      "distances\n",
      "[[6.2313984e+01 6.7468048e+01 6.9761002e+01 ... 3.4028235e+38\n",
      "  3.4028235e+38 3.4028235e+38]\n",
      " [5.2812443e+01 5.8572731e+01 5.9769367e+01 ... 3.4028235e+38\n",
      "  3.4028235e+38 3.4028235e+38]\n",
      " [7.4790161e+01 8.1347008e+01 8.1700699e+01 ... 3.4028235e+38\n",
      "  3.4028235e+38 3.4028235e+38]\n",
      " ...\n",
      " [6.2976604e+01 7.3402847e+01 7.4441437e+01 ... 3.4028235e+38\n",
      "  3.4028235e+38 3.4028235e+38]\n",
      " [8.8660736e+01 9.0534935e+01 9.2325562e+01 ... 3.4028235e+38\n",
      "  3.4028235e+38 3.4028235e+38]\n",
      " [6.8804146e+01 6.9344948e+01 7.0574104e+01 ... 3.4028235e+38\n",
      "  3.4028235e+38 3.4028235e+38]]\n",
      "\n"
     ]
    }
   ],
   "source": [
    "################################################################################\n",
    "# Nearest Neighbor (FAISS)\n",
    "################################################################################\n",
    "#print(emb[0])\n",
    "import numpy as np\n",
    "import faiss\n",
    "\n",
    "# Read CC embeddings (DATABASE)\n",
    "cc_embeddings = np.load('emb/cc_sample_0.pkl', allow_pickle=True)\n",
    "print(cc_embeddings[0][1].shape)  # Dimension of the embedding\n",
    "nb = len(cc_embeddings) # database size\n",
    "d = cc_embeddings[0][1].size\n",
    "print(nb,d)\n",
    "xb = np.zeros((nb,d), dtype='float32')\n",
    "for i in range(nb):\n",
    "    xb[i] = cc_embeddings[i][1]\n",
    "print('Number of CC passages: %d' % nb)\n",
    "\n",
    "# Read train embeddings (QUERY)\n",
    "train_embeddings = np.load('emb/train_sample_0.pkl', allow_pickle=True)\n",
    "print(train_embeddings[0][1].shape)  # Dimension of the embedding\n",
    "nq = len(train_embeddings[:10]) # database size\n",
    "d = train_embeddings[0][1].size\n",
    "print(nq,d)\n",
    "xq = np.zeros((nq,d), dtype='float32')\n",
    "for i in range(nq):\n",
    "    xq[i] = train_embeddings[i][1]\n",
    "\n",
    "print('Number of train passages: %d' % nq)\n",
    "print(xq)\n",
    "\n",
    "\n",
    "index = faiss.IndexFlatL2(d)   # build the index\n",
    "\n",
    "print('trained? %r' % index.is_trained)\n",
    "index.add(xb)                  # add vectors to the index\n",
    "print('Total number of indexed CC passages: ', index.ntotal)\n",
    "print()\n",
    "print('Using an indentical CC set')\n",
    "k = 621                          # we want to see 4 nearest neighbors\n",
    "D, I = index.search(xb[:5], k) # sanity check\n",
    "print('================================================================')\n",
    "print('4 nearest neighbors')\n",
    "print(I)\n",
    "print()\n",
    "print('distances(sanity check)')\n",
    "print(D)\n",
    "print()\n",
    "\n",
    "\n",
    "print('===============================================================')\n",
    "print('Using the query(train set)')\n",
    "D, I = index.search(xq, k)     # actual search\n",
    "print('4 nearest neighbors')\n",
    "print(I[:5])                   # neighbors of the 5 first queries\n",
    "print('\\ndistances')\n",
    "print(D)\n",
    "print()\n",
    "\n"
   ]
  },
  {
   "cell_type": "code",
   "execution_count": 10,
   "metadata": {},
   "outputs": [
    {
     "name": "stdout",
     "output_type": "stream",
     "text": [
      "Train passage\n",
      "Surprisingly a lot of people are standing with Colin Kaepernick in his decision not to stand during the national anthem, \"calling the Star Spangled Banner \"weak\" and saying that he doesn't truly love the song. Here is what he had to say on twitter: For those defending the current anthem, do you really truly love that song? I don't and I'm very good at singing it. Like, one of the best He continued to add: My vote is for America the Beautiful. Star spangled banner is a weak song anyway. And then you read this... https://t.co/iAE62FAbxj John Legend linked to an article titled, \"Colin Kaepernick Is Righter Than You Know: The National Anthem Is A Celebration Of Slavery\" The article makes the arguement that an unsung verse of the Francis Scott Key poem is a moral \"atrocity.\" The author claims the end of the rarely sung third verse \"literally celebrated the murder of African-Americans.\" The verse reads: No refuge could save the hireling and slave From the terror of flight or the gloom of the grave, And the star-spangled banner in triumph doth wave O’er the land of the free and the home of the brave. @johnlegend not sure why it's turned into a battle over the lyrics of our anthem. The lyrics were never Colin's argument in the first place All of John Legend's tweets were made in support of the 49ers quarterback who refused to stand while the national anthem was being played during a preseason game. Kaepernick said that his sitd own was for \"people that are being oppressed\" and he'll end the protest when \"I feel like that flag represents what it's supposed to represent.\"\n",
      "\n",
      "CLOSEST passages in CC:\n",
      "-------------------------------------------------------------\n",
      "Closest 0\n",
      "This is a thought police .There is no choice but to use this word .Fascism at its worst is raging , \" he wrote .The Jewish daily newspaper , The Forward , issued an editorial claiming \" a boycott can be a legitimate use of non - violent protest to achieve a worthy goal .\" The editors of the paper then drew a line through the sentence , along with several others , to illustrate the type of reasonable thoughts that will be punishable under the new law .JUAN GONZALEZ :For more , we 're joined by Gal Beckerman , who is the opinion editor at The Forward and the author of When They Come for Us , We 'll Be Gone : The Epic Struggle to Save Soviet Jewry .\n",
      "-------------------------------------------------------------\n",
      "Closest 1\n",
      "Voter turnout was barely 5 percent , he said , adding , \\\"We participated in the city polls to restore democracy .Opposition Boycotts Violence - Plagued Bangladesh Elections ( LinkAsia : 1/10/14 ) .A total of 18 opposition parties , led by the influential Bangladesh Nationalist Party , boycotted last week\\ 's parliamentary elections .Violence broke out between the opposition and the ruling Awami League .LinkAsia speaks with political science professor Ali Riaz about the impact and historical foundations of this crisis .PHOTO : Protesters shout slogans during a clash with police in Gaibandha : REUTERS / Stringer ... .\n",
      "-------------------------------------------------------------\n",
      "Closest 2\n",
      "T. Kumar , the International Advocacy Director for Amnesty International USA , tells CCTV America his reaction to the events surrounding the election in Bangladesh .... .Clashes and boycott mar Bangladesh election .published : 06 Jan 2014 .views : 18 .At least 18 people are dead and many more are injured after violent clashes between opposition activists and police during Bangladesh\\ 's general election .T. Kumar , the International Advocacy Director for Amnesty International USA , tells CCTV America his reaction to the events surrounding the election in Bangladesh .... .Bangladesh Opposition Tells People To Boycott Polls .\n",
      "-------------------------------------------------------------\n",
      "Closest 3\n",
      "A total of 18 opposition parties , led by the influential Bangladesh Nationalist Party , boycotted last week\\ 's parliamentary elections .Violence broke out between the opposition and the ruling Awami League .LinkAsia speaks with political science professor Ali Riaz about the impact and historical found .English / Nat The first parliamentary elections in five years have taken place in Bangladesh , boycotted by opposition parties which called a 48 hour strike .With the opposition not taking part , Prime Minister Khaleda Zia\\ 's Bangladesh Nationalist Party was certain to win an overwhelming majority .Is the power struggle driven by politics or personal hatred between two political leaders ?\n",
      "------------------------------------------------------------\n",
      "...\n",
      "-------------------------------------------------------------\n",
      "Farthest 94\n",
      "He was promoted to director - general of National Security at the Ministry of the Interior in 1977 after serving as military attaché to the Kingdom of Morocco .He returned from four years as Ambassador to Poland to become once again head of National Security at the Ministry of the Interior but this time with Cabinet rank .For his success in dealing with the political opponents and their threat to the regime , he was promoted to Minister of the Interior , and retained this position until he was appointed Prime Minister , though many Tunisians believe that he never completed high school .\n",
      "-------------------------------------------------------------\n",
      "Farthest 95\n",
      "In America , the government and media constantly focus on firearms as evil and dangerous to society .The owners of firearms are portrayed as crazy , careless , criminal , or country crackers .Zoning and other laws force shooters to travel farther and farther out of town to practice .Other laws make possessing , transporting or carrying a firearm punishable by fines and imprisonment , even if the owner has never intended nor done anything to hurt anyone with a gun .Parents are told to keep their kids away from homes where the adults own firearms .\n",
      "-------------------------------------------------------------\n",
      "Farthest 96\n",
      "The response of the Ben Ali regime has been brutal repression with some workers being killed .Since the beginning of the year , the mining area of Gafsa , Tunisia , has been in a state of social turmoil .In this phosphate mining area , the Compagnie des Phosphates de Gafsa reigns supreme .It is supported by the despotic and corrupt regime of Ben Ali .In addition to the pollution linked to the activities of extraction and treatment , poverty and mass unemployment have triggered a huge protest movement .Workers and youth in the mining area are mobilising to defend their dignity , and are struggling for jobs , better housing conditions , health and education .\n",
      "-------------------------------------------------------------\n",
      "Farthest 97\n",
      "The Barn 's other cops include the professional Detectives Claudette Wyms and her highly intelligent but neurotic loser partner Holland \" Dutch \" Wagenbach , and Officer Danielle \" Danny \" Sofer and her rookie partner Officer Julien Lowe .Much of the praise for The Shield is aimed at its writers , who manage to flesh its characters out beyond the usual cop show clichés and take a no - holds barred approach to portraying the different characters ' versions of \" justice \" as seen on the show .The Shield is also notable for its realistic portrayal of racial conflicts and Los Angeles gangs ( though the gangs portrayed in the show are fictional , they often seem oddly similar to some real - life gangs ) .\n"
     ]
    }
   ],
   "source": [
    "print('Train passage')\n",
    "print(train_psgs[300]['doc_text'])\n",
    "print()\n",
    "print('CLOSEST passages in CC:')\n",
    "\n",
    "for i in range(4):\n",
    "    print('-------------------------------------------------------------')\n",
    "    print('Closest %d' % i)\n",
    "    closest = I[0][i]\n",
    "    print(cc_psgs[closest]['doc_text'])\n",
    "\n",
    "print('------------------------------------------------------------')\n",
    "print('...')\n",
    "\n",
    "for i in range(MAX_CC_PSGS-4, MAX_CC_PSGS):\n",
    "    print('-------------------------------------------------------------')\n",
    "    print('Farthest %d' % i)\n",
    "    closest = I[0][i]\n",
    "    print(cc_psgs[closest]['doc_text'])\n"
   ]
  }
 ],
 "metadata": {
  "kernelspec": {
   "display_name": "Python 3",
   "language": "python",
   "name": "python3"
  },
  "language_info": {
   "codemirror_mode": {
    "name": "ipython",
    "version": 3
   },
   "file_extension": ".py",
   "mimetype": "text/x-python",
   "name": "python",
   "nbconvert_exporter": "python",
   "pygments_lexer": "ipython3",
   "version": "3.8.0"
  }
 },
 "nbformat": 4,
 "nbformat_minor": 1
}
