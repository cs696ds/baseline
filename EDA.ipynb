{
 "metadata": {
  "language_info": {
   "codemirror_mode": {
    "name": "ipython",
    "version": 3
   },
   "file_extension": ".py",
   "mimetype": "text/x-python",
   "name": "python",
   "nbconvert_exporter": "python",
   "pygments_lexer": "ipython3",
   "version": "3.9.1-final"
  },
  "orig_nbformat": 2,
  "kernelspec": {
   "name": "python3",
   "display_name": "Python 3.9.1 64-bit ('bmnn': conda)",
   "metadata": {
    "interpreter": {
     "hash": "f5d573bacec01482951f1387beb1afbd1ee37df593f6ca2063f84b09344d6f47"
    }
   }
  }
 },
 "nbformat": 4,
 "nbformat_minor": 2,
 "cells": [
  {
   "source": [
    "# Train "
   ],
   "cell_type": "markdown",
   "metadata": {}
  },
  {
   "cell_type": "code",
   "execution_count": 1,
   "metadata": {},
   "outputs": [
    {
     "output_type": "stream",
     "name": "stdout",
     "text": [
      "            id                                               text  label\n0  train_21949  Dr. Seuss would sure be mad right now if he wa...      0\n1  train_14779  Boy what a dud this mess was.But it only lasts...      0\n2  train_12767  The episodic version of Robert Heinlein's Star...      0\n3   train_2793  It's such a shame that because of it's title t...      1\n4   train_2136  I thought this film was just about perfect. Th...      1\n\n(20000, 3)\n\nIndex(['id', 'text', 'label'], dtype='object')\n\n<class 'pandas.core.frame.DataFrame'>\nRangeIndex: 20000 entries, 0 to 19999\nData columns (total 3 columns):\n #   Column  Non-Null Count  Dtype \n---  ------  --------------  ----- \n 0   id      20000 non-null  object\n 1   text    20000 non-null  object\n 2   label   20000 non-null  int64 \ndtypes: int64(1), object(2)\nmemory usage: 468.9+ KB\nNone\n"
     ]
    }
   ],
   "source": [
    "import json  \n",
    "import pandas as pd \n",
    "from python.eda import show_data\n",
    "\n",
    "train_f = \"data/imdb/train.jsonl\"\n",
    "test_f  = \"data/imdb/test.jsonl\"\n",
    "dev_f   = \"data/imdb/dev.jsonl\"\n",
    "\n",
    "show_data(train_f)\n",
    "show_data(test_f)\n",
    "show_data(dev_f)"
   ]
  }
 ]
}